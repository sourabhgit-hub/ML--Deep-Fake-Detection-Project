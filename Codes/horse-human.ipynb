{
 "cells": [
  {
   "cell_type": "code",
   "execution_count": null,
   "metadata": {},
   "outputs": [],
   "source": [
    "https://github.com/dim4o/gender-recognizer/blob/master/Gender%20Classification.ipynb\n",
    "    https://github.com/google-research/google-research/blob/2f8d5e788c6295d71f5400806e5ed1e2a00f8f19/maml_nonexclusive/maml_classification/maml.py"
   ]
  },
  {
   "cell_type": "code",
   "execution_count": 1,
   "metadata": {},
   "outputs": [],
   "source": [
    "import os\n",
    "import urllib\n",
    "import tarfile\n",
    "import re\n",
    "from shutil import copyfile\n",
    "import random\n",
    "import time\n",
    "import itertools\n",
    "import pickle\n",
    "\n",
    "import matplotlib.pyplot as plt\n",
    "import pandas as pd\n",
    "import numpy as np\n",
    "import cv2\n",
    "import urllib\n",
    "\n",
    "from sklearn.pipeline import Pipeline\n",
    "from sklearn.preprocessing import MinMaxScaler, StandardScaler, PolynomialFeatures\n",
    "from sklearn.decomposition import PCA\n",
    "from sklearn.feature_selection import RFECV, SelectKBest, SelectPercentile\n",
    "from sklearn.model_selection import train_test_split, GridSearchCV, StratifiedKFold, learning_curve, ShuffleSplit\n",
    "from sklearn.linear_model import LogisticRegression\n",
    "from sklearn.svm import LinearSVC, SVC\n",
    "from sklearn.ensemble import RandomForestClassifier, AdaBoostClassifier\n",
    "from sklearn.tree import DecisionTreeClassifier, ExtraTreeClassifier\n",
    "from sklearn.metrics import f1_score, accuracy_score, precision_score, recall_score, classification_report\n",
    "from sklearn.metrics import confusion_matrix, roc_curve, roc_auc_score\n",
    "from sklearn.neighbors import KNeighborsClassifier\n",
    "\n",
    "# Constants\n",
    "NUMBER_OF_SAMPLES = 2900\n",
    "RESIZE_SHAPE = (40, 40)\n",
    "FEMALE_CLASS = 0\n",
    "MALE_CLASS = 1"
   ]
  },
  {
   "cell_type": "code",
   "execution_count": 2,
   "metadata": {},
   "outputs": [],
   "source": [
    "import os\n",
    "os.chdir(r'D:\\2nd_semester\\bigdatascience\\meta\\horse-or-human\\train')"
   ]
  },
  {
   "cell_type": "code",
   "execution_count": 3,
   "metadata": {},
   "outputs": [],
   "source": [
    "\n",
    "directory_female = r\"D:\\2nd_semester\\bigdatascience\\meta\\horse-or-human\\train\\horses\\\\\"\n",
    "directory_male = r\"D:\\2nd_semester\\bigdatascience\\meta\\horse-or-human\\train\\humans\\\\\"\n"
   ]
  },
  {
   "cell_type": "code",
   "execution_count": 4,
   "metadata": {},
   "outputs": [
    {
     "name": "stdout",
     "output_type": "stream",
     "text": [
      "500\n",
      "527\n"
     ]
    }
   ],
   "source": [
    "# test print for the selected names\n",
    "female_image_names = os.listdir(directory_female)\n",
    "male_image_names = os.listdir(directory_male)\n",
    "print(len(female_image_names))\n",
    "print(len(male_image_names))"
   ]
  },
  {
   "cell_type": "markdown",
   "metadata": {},
   "source": [
    "# Dimensionality reduction\n",
    "Image transformations\n",
    "Now I'll extract the features from the image following these actions:\n",
    "\n",
    "Get the original image\n",
    "Convet the image to grayscale\n",
    "Define the region of interests. Use haar faces to detect a face (if exists) on the image. If there is more than one face, I'll get the square with the larger area.\n",
    "Crop the square from the gray image\n",
    "Apply gaussian kernel over the cropped image to reduce the noise.\n",
    "Resize the image to 40x40px"
   ]
  },
  {
   "cell_type": "code",
   "execution_count": 7,
   "metadata": {},
   "outputs": [],
   "source": [
    "gender_faces_data = None\n",
    "gender_faces_data = np.empty(shape=(0,RESIZE_SHAPE[0]*RESIZE_SHAPE[1]+1)) #64*64+1\n",
    "face_cascade = cv2.CascadeClassifier(r'D:\\2nd_semester\\bigdatascience\\project\\face_data\\face.xml')\n",
    "\n",
    "def extract_features(image_path, label):\n",
    "    \"\"\" Extracts features from a image\n",
    "    :param image_path: the path to the image\n",
    "    :param label: the label of the image\n",
    "    :return: extracted features from the image with the corresponding label as a row matrix\n",
    "    \"\"\"\n",
    "    image = cv2.imread(image_path)\n",
    "    gray = cv2.cvtColor(image, cv2.COLOR_BGR2GRAY)\n",
    "    \n",
    "    row = None\n",
    "    '''faces = face_cascade.detectMultiScale(gray, 1.3, 5)\n",
    "    if faces is not ():\n",
    "        face = sorted(faces, key=lambda x: (x[2] * x[3]), reverse=True)[0]\n",
    "        x, y, width, height = face\n",
    "        face_gray = gray[y: y + height, x: x + width]\n",
    "        \n",
    "        # apply Gaussian kernel\n",
    "        kernel = np.ones((3,3),np.float32)/9\n",
    "        face_gray = cv2.filter2D(face_gray,-1,kernel)\n",
    "        \n",
    "        resized = cv2.resize(face_gray, dsize=RESIZE_SHAPE, interpolation=cv2.INTER_CUBIC)\n",
    "        row = np.append(resized.ravel(), label)'''\n",
    "\n",
    "    return np.append((cv2.resize(gray, dsize=RESIZE_SHAPE, interpolation=cv2.INTER_CUBIC)),label)\n",
    "\n",
    "def append_data(prefix_path, label, gender_faces_data):\n",
    "    \"\"\" Appends data to a numpy array\"\"\"\n",
    "    image_names = os.listdir(prefix_path)\n",
    "    for image_path in image_names:\n",
    "        # print(image_path)\n",
    "        curr_row = extract_features(prefix_path + image_path, label)\n",
    "        if curr_row is not None:\n",
    "            gender_faces_data = np.append(gender_faces_data, [curr_row], axis=0)\n",
    "        \n",
    "    return gender_faces_data"
   ]
  },
  {
   "cell_type": "code",
   "execution_count": 8,
   "metadata": {},
   "outputs": [
    {
     "name": "stdout",
     "output_type": "stream",
     "text": [
      "Females count: 500\n",
      "Males count: 527\n",
      "Gender data shape: (1027, 1601)\n"
     ]
    }
   ],
   "source": [
    "# Append the female faces\n",
    "gender_faces_data = append_data(directory_female, FEMALE_CLASS, gender_faces_data)\n",
    "female_data = gender_faces_data\n",
    "\n",
    "# Append the male faces\n",
    "gender_faces_data = append_data(directory_male, MALE_CLASS, gender_faces_data)\n",
    "\n",
    "print(\"Females count: {}\".format(female_data.shape[0]))\n",
    "print(\"Males count: {}\".format(gender_faces_data.shape[0] - female_data.shape[0]))\n",
    "print(\"Gender data shape: {}\".format(gender_faces_data.shape))"
   ]
  },
  {
   "cell_type": "code",
   "execution_count": 9,
   "metadata": {},
   "outputs": [
    {
     "data": {
      "text/plain": [
       "array([[ 15.,  17.,  60., ..., 128., 105.,   0.],\n",
       "       [198., 175., 196., ..., 165., 165.,   1.],\n",
       "       [167., 165., 165., ..., 199., 218.,   0.],\n",
       "       ...,\n",
       "       [199., 200., 200., ..., 211., 198.,   1.],\n",
       "       [156., 159., 149., ..., 226., 228.,   1.],\n",
       "       [217., 210., 201., ..., 198., 191.,   0.]])"
      ]
     },
     "execution_count": 9,
     "metadata": {},
     "output_type": "execute_result"
    }
   ],
   "source": [
    "# Suffle the data\n",
    "np.random.shuffle(gender_faces_data)\n",
    "gender_faces_data"
   ]
  },
  {
   "cell_type": "code",
   "execution_count": 10,
   "metadata": {},
   "outputs": [],
   "source": [
    "np.savetxt(r'D:\\2nd_semester\\bigdatascience\\meta\\horse-or-human\\human_animal__data_40x40_large_2.csv', gender_faces_data.astype(np.int), delimiter=\",\")"
   ]
  },
  {
   "cell_type": "code",
   "execution_count": 2,
   "metadata": {},
   "outputs": [
    {
     "data": {
      "text/html": [
       "<div>\n",
       "<style scoped>\n",
       "    .dataframe tbody tr th:only-of-type {\n",
       "        vertical-align: middle;\n",
       "    }\n",
       "\n",
       "    .dataframe tbody tr th {\n",
       "        vertical-align: top;\n",
       "    }\n",
       "\n",
       "    .dataframe thead th {\n",
       "        text-align: right;\n",
       "    }\n",
       "</style>\n",
       "<table border=\"1\" class=\"dataframe\">\n",
       "  <thead>\n",
       "    <tr style=\"text-align: right;\">\n",
       "      <th></th>\n",
       "      <th>0</th>\n",
       "      <th>1</th>\n",
       "      <th>2</th>\n",
       "      <th>3</th>\n",
       "      <th>4</th>\n",
       "      <th>5</th>\n",
       "      <th>6</th>\n",
       "      <th>7</th>\n",
       "      <th>8</th>\n",
       "      <th>9</th>\n",
       "      <th>...</th>\n",
       "      <th>1591</th>\n",
       "      <th>1592</th>\n",
       "      <th>1593</th>\n",
       "      <th>1594</th>\n",
       "      <th>1595</th>\n",
       "      <th>1596</th>\n",
       "      <th>1597</th>\n",
       "      <th>1598</th>\n",
       "      <th>1599</th>\n",
       "      <th>1600</th>\n",
       "    </tr>\n",
       "  </thead>\n",
       "  <tbody>\n",
       "    <tr>\n",
       "      <th>0</th>\n",
       "      <td>15.0</td>\n",
       "      <td>17.0</td>\n",
       "      <td>60.0</td>\n",
       "      <td>40.0</td>\n",
       "      <td>20.0</td>\n",
       "      <td>51.0</td>\n",
       "      <td>47.0</td>\n",
       "      <td>26.0</td>\n",
       "      <td>18.0</td>\n",
       "      <td>14.0</td>\n",
       "      <td>...</td>\n",
       "      <td>134.0</td>\n",
       "      <td>132.0</td>\n",
       "      <td>115.0</td>\n",
       "      <td>133.0</td>\n",
       "      <td>140.0</td>\n",
       "      <td>135.0</td>\n",
       "      <td>119.0</td>\n",
       "      <td>128.0</td>\n",
       "      <td>105.0</td>\n",
       "      <td>0.0</td>\n",
       "    </tr>\n",
       "    <tr>\n",
       "      <th>1</th>\n",
       "      <td>198.0</td>\n",
       "      <td>175.0</td>\n",
       "      <td>196.0</td>\n",
       "      <td>181.0</td>\n",
       "      <td>172.0</td>\n",
       "      <td>177.0</td>\n",
       "      <td>178.0</td>\n",
       "      <td>163.0</td>\n",
       "      <td>161.0</td>\n",
       "      <td>153.0</td>\n",
       "      <td>...</td>\n",
       "      <td>177.0</td>\n",
       "      <td>180.0</td>\n",
       "      <td>162.0</td>\n",
       "      <td>179.0</td>\n",
       "      <td>177.0</td>\n",
       "      <td>161.0</td>\n",
       "      <td>187.0</td>\n",
       "      <td>165.0</td>\n",
       "      <td>165.0</td>\n",
       "      <td>1.0</td>\n",
       "    </tr>\n",
       "    <tr>\n",
       "      <th>2</th>\n",
       "      <td>167.0</td>\n",
       "      <td>165.0</td>\n",
       "      <td>165.0</td>\n",
       "      <td>165.0</td>\n",
       "      <td>163.0</td>\n",
       "      <td>162.0</td>\n",
       "      <td>163.0</td>\n",
       "      <td>164.0</td>\n",
       "      <td>163.0</td>\n",
       "      <td>164.0</td>\n",
       "      <td>...</td>\n",
       "      <td>215.0</td>\n",
       "      <td>215.0</td>\n",
       "      <td>218.0</td>\n",
       "      <td>236.0</td>\n",
       "      <td>222.0</td>\n",
       "      <td>227.0</td>\n",
       "      <td>211.0</td>\n",
       "      <td>199.0</td>\n",
       "      <td>218.0</td>\n",
       "      <td>0.0</td>\n",
       "    </tr>\n",
       "    <tr>\n",
       "      <th>3</th>\n",
       "      <td>174.0</td>\n",
       "      <td>175.0</td>\n",
       "      <td>174.0</td>\n",
       "      <td>174.0</td>\n",
       "      <td>174.0</td>\n",
       "      <td>174.0</td>\n",
       "      <td>174.0</td>\n",
       "      <td>174.0</td>\n",
       "      <td>174.0</td>\n",
       "      <td>175.0</td>\n",
       "      <td>...</td>\n",
       "      <td>62.0</td>\n",
       "      <td>31.0</td>\n",
       "      <td>30.0</td>\n",
       "      <td>13.0</td>\n",
       "      <td>21.0</td>\n",
       "      <td>21.0</td>\n",
       "      <td>17.0</td>\n",
       "      <td>57.0</td>\n",
       "      <td>71.0</td>\n",
       "      <td>0.0</td>\n",
       "    </tr>\n",
       "    <tr>\n",
       "      <th>4</th>\n",
       "      <td>29.0</td>\n",
       "      <td>28.0</td>\n",
       "      <td>28.0</td>\n",
       "      <td>28.0</td>\n",
       "      <td>28.0</td>\n",
       "      <td>27.0</td>\n",
       "      <td>27.0</td>\n",
       "      <td>26.0</td>\n",
       "      <td>26.0</td>\n",
       "      <td>26.0</td>\n",
       "      <td>...</td>\n",
       "      <td>141.0</td>\n",
       "      <td>143.0</td>\n",
       "      <td>163.0</td>\n",
       "      <td>159.0</td>\n",
       "      <td>146.0</td>\n",
       "      <td>142.0</td>\n",
       "      <td>139.0</td>\n",
       "      <td>132.0</td>\n",
       "      <td>158.0</td>\n",
       "      <td>1.0</td>\n",
       "    </tr>\n",
       "  </tbody>\n",
       "</table>\n",
       "<p>5 rows × 1601 columns</p>\n",
       "</div>"
      ],
      "text/plain": [
       "    0      1      2      3      4      5      6      7      8      9     ...  \\\n",
       "0   15.0   17.0   60.0   40.0   20.0   51.0   47.0   26.0   18.0   14.0  ...   \n",
       "1  198.0  175.0  196.0  181.0  172.0  177.0  178.0  163.0  161.0  153.0  ...   \n",
       "2  167.0  165.0  165.0  165.0  163.0  162.0  163.0  164.0  163.0  164.0  ...   \n",
       "3  174.0  175.0  174.0  174.0  174.0  174.0  174.0  174.0  174.0  175.0  ...   \n",
       "4   29.0   28.0   28.0   28.0   28.0   27.0   27.0   26.0   26.0   26.0  ...   \n",
       "\n",
       "    1591   1592   1593   1594   1595   1596   1597   1598   1599  1600  \n",
       "0  134.0  132.0  115.0  133.0  140.0  135.0  119.0  128.0  105.0   0.0  \n",
       "1  177.0  180.0  162.0  179.0  177.0  161.0  187.0  165.0  165.0   1.0  \n",
       "2  215.0  215.0  218.0  236.0  222.0  227.0  211.0  199.0  218.0   0.0  \n",
       "3   62.0   31.0   30.0   13.0   21.0   21.0   17.0   57.0   71.0   0.0  \n",
       "4  141.0  143.0  163.0  159.0  146.0  142.0  139.0  132.0  158.0   1.0  \n",
       "\n",
       "[5 rows x 1601 columns]"
      ]
     },
     "execution_count": 2,
     "metadata": {},
     "output_type": "execute_result"
    }
   ],
   "source": [
    "# Time 1-2 min, size ~200Mb\n",
    "# downloads the dataset if does not exists\n",
    "dataset_file = r'D:\\2nd_semester\\bigdatascience\\meta\\horse-or-human\\human_animal__data_40x40_large_2.csv'\n",
    "\n",
    "\n",
    "gender_faces_data = pd.read_csv(dataset_file, sep=',', header=None)\n",
    "gender_faces_data.head()"
   ]
  },
  {
   "cell_type": "code",
   "execution_count": 3,
   "metadata": {},
   "outputs": [
    {
     "name": "stdout",
     "output_type": "stream",
     "text": [
      "(1027, 1600)\n",
      "(1027,)\n",
      "[0. 1. 0. ... 1. 1. 0.]\n"
     ]
    }
   ],
   "source": [
    "# get features\n",
    "features = gender_faces_data.to_numpy()[:, :RESIZE_SHAPE[0]*RESIZE_SHAPE[1]]\n",
    "print(features.shape)\n",
    "\n",
    "# get labels\n",
    "labels = gender_faces_data.to_numpy()[:, RESIZE_SHAPE[0]*RESIZE_SHAPE[1]:].ravel() # labels = gender_faces_data.as_matrix()[:, 50*50:].ravel()\n",
    "print(labels.shape)\n",
    "print(labels)"
   ]
  },
  {
   "cell_type": "code",
   "execution_count": 4,
   "metadata": {},
   "outputs": [
    {
     "name": "stdout",
     "output_type": "stream",
     "text": [
      "Females count: 500\n",
      "Males count: 527\n",
      "{0.0: 500, 1.0: 527}\n"
     ]
    }
   ],
   "source": [
    "# calculates the final counts\n",
    "unique, count = np.unique(labels, return_counts=True)\n",
    "print(\"Females count: {}\".format(count[0]))\n",
    "print(\"Males count: {}\".format(count[1]))\n",
    "# out = np.histogram(labels, bins=labels)\n",
    "print(dict(zip(unique, count)))"
   ]
  },
  {
   "cell_type": "markdown",
   "metadata": {},
   "source": [
    "# Choice of the best features\n",
    "It is difficult to find the best PCA parameters but I can make very rough approximations with something like grid search."
   ]
  },
  {
   "cell_type": "code",
   "execution_count": 5,
   "metadata": {
    "scrolled": true
   },
   "outputs": [
    {
     "name": "stdout",
     "output_type": "stream",
     "text": [
      "Features shape: (1027, 1600)\n",
      "Reducing features to 80 ...\n"
     ]
    },
    {
     "name": "stderr",
     "output_type": "stream",
     "text": [
      "D:\\anaconda\\lib\\site-packages\\sklearn\\linear_model\\_logistic.py:940: ConvergenceWarning: lbfgs failed to converge (status=1):\n",
      "STOP: TOTAL NO. of ITERATIONS REACHED LIMIT.\n",
      "\n",
      "Increase the number of iterations (max_iter) or scale the data as shown in:\n",
      "    https://scikit-learn.org/stable/modules/preprocessing.html\n",
      "Please also refer to the documentation for alternative solver options:\n",
      "    https://scikit-learn.org/stable/modules/linear_model.html#logistic-regression\n",
      "  extra_warning_msg=_LOGISTIC_SOLVER_CONVERGENCE_MSG)\n",
      "D:\\anaconda\\lib\\site-packages\\sklearn\\linear_model\\_logistic.py:940: ConvergenceWarning: lbfgs failed to converge (status=1):\n",
      "STOP: TOTAL NO. of ITERATIONS REACHED LIMIT.\n",
      "\n",
      "Increase the number of iterations (max_iter) or scale the data as shown in:\n",
      "    https://scikit-learn.org/stable/modules/preprocessing.html\n",
      "Please also refer to the documentation for alternative solver options:\n",
      "    https://scikit-learn.org/stable/modules/linear_model.html#logistic-regression\n",
      "  extra_warning_msg=_LOGISTIC_SOLVER_CONVERGENCE_MSG)\n"
     ]
    },
    {
     "name": "stdout",
     "output_type": "stream",
     "text": [
      "    train_score: 0.8802228412256268\n",
      "    test_score: 0.8122977346278317\n",
      "Reducing features to 140 ...\n",
      "    train_score: 0.9846796657381616\n",
      "    test_score: 0.8317152103559871\n",
      "Reducing features to 200 ...\n"
     ]
    },
    {
     "name": "stderr",
     "output_type": "stream",
     "text": [
      "D:\\anaconda\\lib\\site-packages\\sklearn\\linear_model\\_logistic.py:940: ConvergenceWarning: lbfgs failed to converge (status=1):\n",
      "STOP: TOTAL NO. of ITERATIONS REACHED LIMIT.\n",
      "\n",
      "Increase the number of iterations (max_iter) or scale the data as shown in:\n",
      "    https://scikit-learn.org/stable/modules/preprocessing.html\n",
      "Please also refer to the documentation for alternative solver options:\n",
      "    https://scikit-learn.org/stable/modules/linear_model.html#logistic-regression\n",
      "  extra_warning_msg=_LOGISTIC_SOLVER_CONVERGENCE_MSG)\n"
     ]
    },
    {
     "name": "stdout",
     "output_type": "stream",
     "text": [
      "    train_score: 1.0\n",
      "    test_score: 0.8543689320388349\n",
      "Reducing features to 260 ...\n"
     ]
    },
    {
     "name": "stderr",
     "output_type": "stream",
     "text": [
      "D:\\anaconda\\lib\\site-packages\\sklearn\\linear_model\\_logistic.py:940: ConvergenceWarning: lbfgs failed to converge (status=1):\n",
      "STOP: TOTAL NO. of ITERATIONS REACHED LIMIT.\n",
      "\n",
      "Increase the number of iterations (max_iter) or scale the data as shown in:\n",
      "    https://scikit-learn.org/stable/modules/preprocessing.html\n",
      "Please also refer to the documentation for alternative solver options:\n",
      "    https://scikit-learn.org/stable/modules/linear_model.html#logistic-regression\n",
      "  extra_warning_msg=_LOGISTIC_SOLVER_CONVERGENCE_MSG)\n"
     ]
    },
    {
     "name": "stdout",
     "output_type": "stream",
     "text": [
      "    train_score: 1.0\n",
      "    test_score: 0.8576051779935275\n",
      "Reducing features to 320 ...\n"
     ]
    },
    {
     "name": "stderr",
     "output_type": "stream",
     "text": [
      "D:\\anaconda\\lib\\site-packages\\sklearn\\linear_model\\_logistic.py:940: ConvergenceWarning: lbfgs failed to converge (status=1):\n",
      "STOP: TOTAL NO. of ITERATIONS REACHED LIMIT.\n",
      "\n",
      "Increase the number of iterations (max_iter) or scale the data as shown in:\n",
      "    https://scikit-learn.org/stable/modules/preprocessing.html\n",
      "Please also refer to the documentation for alternative solver options:\n",
      "    https://scikit-learn.org/stable/modules/linear_model.html#logistic-regression\n",
      "  extra_warning_msg=_LOGISTIC_SOLVER_CONVERGENCE_MSG)\n"
     ]
    },
    {
     "name": "stdout",
     "output_type": "stream",
     "text": [
      "    train_score: 1.0\n",
      "    test_score: 0.8737864077669902\n",
      "Reducing features to 380 ...\n"
     ]
    },
    {
     "name": "stderr",
     "output_type": "stream",
     "text": [
      "D:\\anaconda\\lib\\site-packages\\sklearn\\linear_model\\_logistic.py:940: ConvergenceWarning: lbfgs failed to converge (status=1):\n",
      "STOP: TOTAL NO. of ITERATIONS REACHED LIMIT.\n",
      "\n",
      "Increase the number of iterations (max_iter) or scale the data as shown in:\n",
      "    https://scikit-learn.org/stable/modules/preprocessing.html\n",
      "Please also refer to the documentation for alternative solver options:\n",
      "    https://scikit-learn.org/stable/modules/linear_model.html#logistic-regression\n",
      "  extra_warning_msg=_LOGISTIC_SOLVER_CONVERGENCE_MSG)\n"
     ]
    },
    {
     "name": "stdout",
     "output_type": "stream",
     "text": [
      "    train_score: 1.0\n",
      "    test_score: 0.8511326860841424\n",
      "Reducing features to 440 ...\n"
     ]
    },
    {
     "name": "stderr",
     "output_type": "stream",
     "text": [
      "D:\\anaconda\\lib\\site-packages\\sklearn\\linear_model\\_logistic.py:940: ConvergenceWarning: lbfgs failed to converge (status=1):\n",
      "STOP: TOTAL NO. of ITERATIONS REACHED LIMIT.\n",
      "\n",
      "Increase the number of iterations (max_iter) or scale the data as shown in:\n",
      "    https://scikit-learn.org/stable/modules/preprocessing.html\n",
      "Please also refer to the documentation for alternative solver options:\n",
      "    https://scikit-learn.org/stable/modules/linear_model.html#logistic-regression\n",
      "  extra_warning_msg=_LOGISTIC_SOLVER_CONVERGENCE_MSG)\n"
     ]
    },
    {
     "name": "stdout",
     "output_type": "stream",
     "text": [
      "    train_score: 1.0\n",
      "    test_score: 0.8737864077669902\n",
      "Reducing features to 1000 ...\n",
      "    train_score: 1.0\n",
      "    test_score: 0.8640776699029126\n",
      "Finished.\n"
     ]
    },
    {
     "name": "stderr",
     "output_type": "stream",
     "text": [
      "D:\\anaconda\\lib\\site-packages\\sklearn\\linear_model\\_logistic.py:940: ConvergenceWarning: lbfgs failed to converge (status=1):\n",
      "STOP: TOTAL NO. of ITERATIONS REACHED LIMIT.\n",
      "\n",
      "Increase the number of iterations (max_iter) or scale the data as shown in:\n",
      "    https://scikit-learn.org/stable/modules/preprocessing.html\n",
      "Please also refer to the documentation for alternative solver options:\n",
      "    https://scikit-learn.org/stable/modules/linear_model.html#logistic-regression\n",
      "  extra_warning_msg=_LOGISTIC_SOLVER_CONVERGENCE_MSG)\n"
     ]
    }
   ],
   "source": [
    "print(\"Features shape: {}\".format(features.shape))\n",
    "features_counts = [80, 140, 200, 260, 320, 380, 440, 1000]\n",
    "test_scores = []\n",
    "train_scores = []\n",
    "for f_count in features_counts:\n",
    "    print(\"Reducing features to {} ...\".format(f_count))\n",
    "    pca = PCA(n_components=f_count)\n",
    "\n",
    "    pca.fit(features)\n",
    "    reduced_features = pca.transform(features)\n",
    "    \n",
    "    features_train, features_test, labels_train, labels_test = train_test_split(\n",
    "        reduced_features, labels, train_size=0.7, test_size=0.3, random_state=0)\n",
    "    \n",
    "    logistic_regression = LogisticRegression(C=0.001)\n",
    "    logistic_regression.fit(features_train, labels_train)\n",
    "    \n",
    "    test_score = logistic_regression.score(features_test, labels_test)\n",
    "    train_score = logistic_regression.score(features_train, labels_train)\n",
    "    \n",
    "    print(\"    train_score: {}\".format(train_score))\n",
    "    print(\"    test_score: {}\".format(test_score))\n",
    "    \n",
    "    test_scores.append(test_score)\n",
    "    train_scores.append(train_score)\n",
    "    \n",
    "print(\"Finished.\")"
   ]
  },
  {
   "cell_type": "code",
   "execution_count": 6,
   "metadata": {},
   "outputs": [
    {
     "data": {
      "image/png": "[encoded data removed]",
      "text/plain": [
       "<Figure size 432x288 with 1 Axes>"
      ]
     },
     "metadata": {
      "needs_background": "light"
     },
     "output_type": "display_data"
    }
   ],
   "source": [
    "\n",
    "plt.plot(features_counts, test_scores)\n",
    "plt.plot(features_counts, train_scores)\n",
    "plt.legend([\"test_score\", \"train score\"])\n",
    "plt.xlabel(\"number of components\")\n",
    "plt.ylabel(\"accuracy score\")\n",
    "plt.show()"
   ]
  },
  {
   "cell_type": "markdown",
   "metadata": {},
   "source": [
    "# Model selection\n",
    "As we have seen, the data is well balanced and therefore I will choose Accuracy Score for metric. Also I will use Learning Curve, ROC curve and Confusion Matrix to analyze the results."
   ]
  },
  {
   "cell_type": "code",
   "execution_count": 7,
   "metadata": {},
   "outputs": [
    {
     "name": "stdout",
     "output_type": "stream",
     "text": [
      "(1027, 1601)\n"
     ]
    },
    {
     "data": {
      "text/html": [
       "<div>\n",
       "<style scoped>\n",
       "    .dataframe tbody tr th:only-of-type {\n",
       "        vertical-align: middle;\n",
       "    }\n",
       "\n",
       "    .dataframe tbody tr th {\n",
       "        vertical-align: top;\n",
       "    }\n",
       "\n",
       "    .dataframe thead th {\n",
       "        text-align: right;\n",
       "    }\n",
       "</style>\n",
       "<table border=\"1\" class=\"dataframe\">\n",
       "  <thead>\n",
       "    <tr style=\"text-align: right;\">\n",
       "      <th></th>\n",
       "      <th>0</th>\n",
       "      <th>1</th>\n",
       "      <th>2</th>\n",
       "      <th>3</th>\n",
       "      <th>4</th>\n",
       "      <th>5</th>\n",
       "      <th>6</th>\n",
       "      <th>7</th>\n",
       "      <th>8</th>\n",
       "      <th>9</th>\n",
       "      <th>...</th>\n",
       "      <th>1591</th>\n",
       "      <th>1592</th>\n",
       "      <th>1593</th>\n",
       "      <th>1594</th>\n",
       "      <th>1595</th>\n",
       "      <th>1596</th>\n",
       "      <th>1597</th>\n",
       "      <th>1598</th>\n",
       "      <th>1599</th>\n",
       "      <th>1600</th>\n",
       "    </tr>\n",
       "  </thead>\n",
       "  <tbody>\n",
       "    <tr>\n",
       "      <th>0</th>\n",
       "      <td>15.0</td>\n",
       "      <td>17.0</td>\n",
       "      <td>60.0</td>\n",
       "      <td>40.0</td>\n",
       "      <td>20.0</td>\n",
       "      <td>51.0</td>\n",
       "      <td>47.0</td>\n",
       "      <td>26.0</td>\n",
       "      <td>18.0</td>\n",
       "      <td>14.0</td>\n",
       "      <td>...</td>\n",
       "      <td>134.0</td>\n",
       "      <td>132.0</td>\n",
       "      <td>115.0</td>\n",
       "      <td>133.0</td>\n",
       "      <td>140.0</td>\n",
       "      <td>135.0</td>\n",
       "      <td>119.0</td>\n",
       "      <td>128.0</td>\n",
       "      <td>105.0</td>\n",
       "      <td>0.0</td>\n",
       "    </tr>\n",
       "    <tr>\n",
       "      <th>1</th>\n",
       "      <td>198.0</td>\n",
       "      <td>175.0</td>\n",
       "      <td>196.0</td>\n",
       "      <td>181.0</td>\n",
       "      <td>172.0</td>\n",
       "      <td>177.0</td>\n",
       "      <td>178.0</td>\n",
       "      <td>163.0</td>\n",
       "      <td>161.0</td>\n",
       "      <td>153.0</td>\n",
       "      <td>...</td>\n",
       "      <td>177.0</td>\n",
       "      <td>180.0</td>\n",
       "      <td>162.0</td>\n",
       "      <td>179.0</td>\n",
       "      <td>177.0</td>\n",
       "      <td>161.0</td>\n",
       "      <td>187.0</td>\n",
       "      <td>165.0</td>\n",
       "      <td>165.0</td>\n",
       "      <td>1.0</td>\n",
       "    </tr>\n",
       "    <tr>\n",
       "      <th>2</th>\n",
       "      <td>167.0</td>\n",
       "      <td>165.0</td>\n",
       "      <td>165.0</td>\n",
       "      <td>165.0</td>\n",
       "      <td>163.0</td>\n",
       "      <td>162.0</td>\n",
       "      <td>163.0</td>\n",
       "      <td>164.0</td>\n",
       "      <td>163.0</td>\n",
       "      <td>164.0</td>\n",
       "      <td>...</td>\n",
       "      <td>215.0</td>\n",
       "      <td>215.0</td>\n",
       "      <td>218.0</td>\n",
       "      <td>236.0</td>\n",
       "      <td>222.0</td>\n",
       "      <td>227.0</td>\n",
       "      <td>211.0</td>\n",
       "      <td>199.0</td>\n",
       "      <td>218.0</td>\n",
       "      <td>0.0</td>\n",
       "    </tr>\n",
       "    <tr>\n",
       "      <th>3</th>\n",
       "      <td>174.0</td>\n",
       "      <td>175.0</td>\n",
       "      <td>174.0</td>\n",
       "      <td>174.0</td>\n",
       "      <td>174.0</td>\n",
       "      <td>174.0</td>\n",
       "      <td>174.0</td>\n",
       "      <td>174.0</td>\n",
       "      <td>174.0</td>\n",
       "      <td>175.0</td>\n",
       "      <td>...</td>\n",
       "      <td>62.0</td>\n",
       "      <td>31.0</td>\n",
       "      <td>30.0</td>\n",
       "      <td>13.0</td>\n",
       "      <td>21.0</td>\n",
       "      <td>21.0</td>\n",
       "      <td>17.0</td>\n",
       "      <td>57.0</td>\n",
       "      <td>71.0</td>\n",
       "      <td>0.0</td>\n",
       "    </tr>\n",
       "    <tr>\n",
       "      <th>4</th>\n",
       "      <td>29.0</td>\n",
       "      <td>28.0</td>\n",
       "      <td>28.0</td>\n",
       "      <td>28.0</td>\n",
       "      <td>28.0</td>\n",
       "      <td>27.0</td>\n",
       "      <td>27.0</td>\n",
       "      <td>26.0</td>\n",
       "      <td>26.0</td>\n",
       "      <td>26.0</td>\n",
       "      <td>...</td>\n",
       "      <td>141.0</td>\n",
       "      <td>143.0</td>\n",
       "      <td>163.0</td>\n",
       "      <td>159.0</td>\n",
       "      <td>146.0</td>\n",
       "      <td>142.0</td>\n",
       "      <td>139.0</td>\n",
       "      <td>132.0</td>\n",
       "      <td>158.0</td>\n",
       "      <td>1.0</td>\n",
       "    </tr>\n",
       "  </tbody>\n",
       "</table>\n",
       "<p>5 rows × 1601 columns</p>\n",
       "</div>"
      ],
      "text/plain": [
       "    0      1      2      3      4      5      6      7      8      9     ...  \\\n",
       "0   15.0   17.0   60.0   40.0   20.0   51.0   47.0   26.0   18.0   14.0  ...   \n",
       "1  198.0  175.0  196.0  181.0  172.0  177.0  178.0  163.0  161.0  153.0  ...   \n",
       "2  167.0  165.0  165.0  165.0  163.0  162.0  163.0  164.0  163.0  164.0  ...   \n",
       "3  174.0  175.0  174.0  174.0  174.0  174.0  174.0  174.0  174.0  175.0  ...   \n",
       "4   29.0   28.0   28.0   28.0   28.0   27.0   27.0   26.0   26.0   26.0  ...   \n",
       "\n",
       "    1591   1592   1593   1594   1595   1596   1597   1598   1599  1600  \n",
       "0  134.0  132.0  115.0  133.0  140.0  135.0  119.0  128.0  105.0   0.0  \n",
       "1  177.0  180.0  162.0  179.0  177.0  161.0  187.0  165.0  165.0   1.0  \n",
       "2  215.0  215.0  218.0  236.0  222.0  227.0  211.0  199.0  218.0   0.0  \n",
       "3   62.0   31.0   30.0   13.0   21.0   21.0   17.0   57.0   71.0   0.0  \n",
       "4  141.0  143.0  163.0  159.0  146.0  142.0  139.0  132.0  158.0   1.0  \n",
       "\n",
       "[5 rows x 1601 columns]"
      ]
     },
     "execution_count": 7,
     "metadata": {},
     "output_type": "execute_result"
    }
   ],
   "source": [
    "gender_faces_data = pd.read_csv(r'D:\\2nd_semester\\bigdatascience\\meta\\horse-or-human\\human_animal__data_40x40_large_2.csv', sep=',', header=None)\n",
    "\n",
    "print(gender_faces_data.shape)\n",
    "gender_faces_data.head()"
   ]
  },
  {
   "cell_type": "code",
   "execution_count": 18,
   "metadata": {},
   "outputs": [
    {
     "name": "stdout",
     "output_type": "stream",
     "text": [
      "(1027, 1600)\n"
     ]
    }
   ],
   "source": [
    "features = gender_faces_data.to_numpy()[:, :RESIZE_SHAPE[0]*RESIZE_SHAPE[1]]\n",
    "print(features.shape)"
   ]
  },
  {
   "cell_type": "code",
   "execution_count": 8,
   "metadata": {},
   "outputs": [
    {
     "name": "stdout",
     "output_type": "stream",
     "text": [
      "(1027,)\n",
      "[0. 1. 0. ... 1. 1. 0.]\n"
     ]
    }
   ],
   "source": [
    "labels = gender_faces_data.to_numpy()[:, RESIZE_SHAPE[0]*RESIZE_SHAPE[1]:].ravel()\n",
    "print(labels.shape)\n",
    "print(labels)"
   ]
  },
  {
   "cell_type": "markdown",
   "metadata": {},
   "source": [
    "# Define util functions"
   ]
  },
  {
   "cell_type": "code",
   "execution_count": 20,
   "metadata": {},
   "outputs": [],
   "source": [
    "def plot_roc_curve(estimator, features_test, labels_test, title):\n",
    "    \"\"\" Plots ROC curve\"\"\"\n",
    "    logit_roc_auc = roc_auc_score(labels_test, estimator.predict(features_test))\n",
    "    false_positive_rate, true_positive_rate, thresholds = roc_curve(\n",
    "        labels_test, estimator.predict_proba(features_test)[:,1])\n",
    "    plt.figure()\n",
    "    plt.plot(false_positive_rate, true_positive_rate, label='{} (area = {:0.2f})'.format(title, logit_roc_auc))\n",
    "    plt.plot([0, 1], [0, 1],'r--')\n",
    "    plt.xlim([0.0, 1.0])\n",
    "    plt.ylim([0.0, 1.05])\n",
    "    plt.xlabel('False Positive Rate')\n",
    "    plt.ylabel('True Positive Rate')\n",
    "    plt.title('Receiver operating characteristic')\n",
    "    plt.legend(loc=\"lower right\")\n",
    "    plt.savefig('Log_ROC')\n",
    "    return plt"
   ]
  },
  {
   "cell_type": "code",
   "execution_count": 21,
   "metadata": {},
   "outputs": [],
   "source": [
    "def print_grid_search_results(grid_search_pipeline, splits):\n",
    "    \"\"\" Prints reformated version of the cv_results_\n",
    "    :param grid_search_pipeline: grid_search estimator\n",
    "    :param splits: the number of the kFold splits\n",
    "    :return: table with parameters\n",
    "    \"\"\"\n",
    "    results = pd.DataFrame(grid_search_pipeline.cv_results_)\n",
    "    results = results.drop(['mean_fit_time', 'mean_score_time', 'std_fit_time', 'std_score_time', 'params'], axis=1)\n",
    "    columns = columns={\"param_pca__n_components\": \"param_pca\", \"param_classifier__C\": \"param_C\", \n",
    "                       \"mean_test_score\": \"mean_test\",\"mean_train_score\": \"mean_train\", \"rank_test_score\": \n",
    "                       \"rank_test\", \"param_clf__n_estimators\": \"n_estimators\"}\n",
    "    for i in range(0, splits):\n",
    "        columns[\"split\" + str(i) + \"_train_score\"]=\"split\" + str(i) + \"_train\"\n",
    "        columns[\"split\" + str(i) + \"_test_score\"]=\"split\" + str(i) + \"_test\"\n",
    "    results = results.rename(columns=columns)\n",
    "    results.sort_values(by='rank_test', inplace=True)\n",
    "    return results.head(len(grid_search_pipeline.cv_results_['params']))"
   ]
  },
  {
   "cell_type": "code",
   "execution_count": 22,
   "metadata": {},
   "outputs": [],
   "source": [
    "def plot_learning_curve(estimator, title, X, y, ylim=None, cv=None,\n",
    "                        n_jobs=1, train_sizes=np.linspace(.1, 1.0, 5)):\n",
    "    \"\"\"\n",
    "    Generate a simple plot of the test and training learning curve.\n",
    "    For more info see the origanl documtation here: \n",
    "    http://scikit-learn.org/stable/auto_examples/model_selection/plot_learning_curve.html\n",
    "    \"\"\"\n",
    "    plt.figure()\n",
    "    plt.title(title)\n",
    "    if ylim is not None:\n",
    "        plt.ylim(*ylim)\n",
    "    plt.xlabel(\"Training examples\")\n",
    "    plt.ylabel(\"Score\")\n",
    "    train_sizes, train_scores, test_scores = learning_curve(\n",
    "        estimator, X, y, cv=cv, n_jobs=n_jobs, train_sizes=train_sizes)\n",
    "    train_scores_mean = np.mean(train_scores, axis=1)\n",
    "    train_scores_std = np.std(train_scores, axis=1)\n",
    "    test_scores_mean = np.mean(test_scores, axis=1)\n",
    "    test_scores_std = np.std(test_scores, axis=1)\n",
    "    plt.grid()\n",
    "\n",
    "    plt.fill_between(train_sizes, train_scores_mean - train_scores_std,\n",
    "                     train_scores_mean + train_scores_std, alpha=0.1,\n",
    "                     color=\"r\")\n",
    "    plt.fill_between(train_sizes, test_scores_mean - test_scores_std,\n",
    "                     test_scores_mean + test_scores_std, alpha=0.1, color=\"g\")\n",
    "    plt.plot(train_sizes, train_scores_mean, 'o-', color=\"r\",\n",
    "             label=\"Training score\")\n",
    "    plt.plot(train_sizes, test_scores_mean, 'o-', color=\"g\",\n",
    "             label=\"Cross-validation score\")\n",
    "\n",
    "    plt.legend(loc=\"best\")\n",
    "    return plt"
   ]
  },
  {
   "cell_type": "code",
   "execution_count": 23,
   "metadata": {},
   "outputs": [],
   "source": [
    "\n",
    "def plot_confusion_matrix(cm, classes,\n",
    "                          title='Confusion matrix',\n",
    "                          cmap=plt.cm.Blues):\n",
    "    \"\"\"\n",
    "    This function prints and plots the confusion matrix.\n",
    "    \"\"\"\n",
    "    plt.imshow(cm, interpolation='nearest', cmap=cmap)\n",
    "    plt.title(title)\n",
    "    plt.colorbar()\n",
    "    tick_marks = np.arange(len(classes))\n",
    "    plt.xticks(tick_marks, classes, rotation=45)\n",
    "    plt.yticks(tick_marks, classes)\n",
    "\n",
    "    fmt = '.2f'\n",
    "    thresh = cm.max() / 2.\n",
    "    for i, j in itertools.product(range(cm.shape[0]), range(cm.shape[1])):\n",
    "        plt.text(j, i, format(cm[i, j], fmt),\n",
    "                 horizontalalignment=\"center\",\n",
    "                 color=\"white\" if cm[i, j] > thresh else \"black\")\n",
    "\n",
    "    plt.tight_layout()\n",
    "    plt.ylabel('True label')\n",
    "    plt.xlabel('Predicted label')"
   ]
  },
  {
   "cell_type": "markdown",
   "metadata": {},
   "source": [
    "# Logistic Regression model\n",
    "Basic Logistic Regression\n",
    "I will create a pipeline for the models because it is convenient to use not only during the training but also during the use of the model. I can simply call pipeline_model.predict(...) and it will handle the PCA and Scaler transformations for the input data. It is therefore a prerequisite for fewer mistakes. On the other hand, invoking PCA and Scaler every time when creating each model will reduce performance. But for the purpose of this study, this is not so important."
   ]
  },
  {
   "cell_type": "code",
   "execution_count": 24,
   "metadata": {},
   "outputs": [],
   "source": [
    "\n",
    "# split the data to train and test set\n",
    "features_train, features_test, labels_train, labels_test = train_test_split(\n",
    "    features, labels, train_size=0.7, test_size=0.3, random_state=42)"
   ]
  },
  {
   "cell_type": "code",
   "execution_count": 25,
   "metadata": {},
   "outputs": [],
   "source": [
    "# creates a pipeline for Logistic Regression\n",
    "logistic_regression_pipe = None\n",
    "logistic_regression = LogisticRegression(random_state=42)\n",
    "logistic_regression_pipe = Pipeline(steps=[('scaler_before', StandardScaler()), \n",
    "                          ('pca', PCA(n_components=440)),\n",
    "                          ('scaler_after', StandardScaler()),\n",
    "                          ('classifier', logistic_regression)])"
   ]
  },
  {
   "cell_type": "code",
   "execution_count": 26,
   "metadata": {},
   "outputs": [],
   "source": [
    "classifier = LogisticRegression(random_state = 0, C=150)"
   ]
  },
  {
   "cell_type": "code",
   "execution_count": 27,
   "metadata": {},
   "outputs": [
    {
     "data": {
      "text/plain": [
       "Pipeline(memory=None,\n",
       "         steps=[('scaler_before',\n",
       "                 StandardScaler(copy=True, with_mean=True, with_std=True)),\n",
       "                ('pca',\n",
       "                 PCA(copy=True, iterated_power='auto', n_components=440,\n",
       "                     random_state=None, svd_solver='auto', tol=0.0,\n",
       "                     whiten=False)),\n",
       "                ('scaler_after',\n",
       "                 StandardScaler(copy=True, with_mean=True, with_std=True)),\n",
       "                ('classifier',\n",
       "                 LogisticRegression(C=1.0, class_weight=None, dual=False,\n",
       "                                    fit_intercept=True, intercept_scaling=1,\n",
       "                                    l1_ratio=None, max_iter=100,\n",
       "                                    multi_class='auto', n_jobs=None,\n",
       "                                    penalty='l2', random_state=42,\n",
       "                                    solver='lbfgs', tol=0.0001, verbose=0,\n",
       "                                    warm_start=False))],\n",
       "         verbose=False)"
      ]
     },
     "execution_count": 27,
     "metadata": {},
     "output_type": "execute_result"
    }
   ],
   "source": [
    "\n",
    "# fit the basic Logistic Regression model\n",
    "logistic_regression_pipe.fit(features_train, labels_train)"
   ]
  },
  {
   "cell_type": "code",
   "execution_count": 13,
   "metadata": {},
   "outputs": [
    {
     "data": {
      "text/plain": [
       "Pipeline(memory=None,\n",
       "         steps=[('scaler_before',\n",
       "                 StandardScaler(copy=True, with_mean=True, with_std=True)),\n",
       "                ('pca',\n",
       "                 PCA(copy=True, iterated_power='auto', n_components=150,\n",
       "                     random_state=None, svd_solver='auto', tol=0.0,\n",
       "                     whiten=False)),\n",
       "                ('scaler_after',\n",
       "                 StandardScaler(copy=True, with_mean=True, with_std=True)),\n",
       "                ('classifier',\n",
       "                 LogisticRegression(C=1.0, class_weight=None, dual=False,\n",
       "                                    fit_intercept=True, intercept_scaling=1,\n",
       "                                    l1_ratio=None, max_iter=100,\n",
       "                                    multi_class='auto', n_jobs=None,\n",
       "                                    penalty='l2', random_state=42,\n",
       "                                    solver='lbfgs', tol=0.0001, verbose=0,\n",
       "                                    warm_start=False))],\n",
       "         verbose=False)"
      ]
     },
     "execution_count": 13,
     "metadata": {},
     "output_type": "execute_result"
    }
   ],
   "source": [
    "from operator import itemgetter\n",
    "rand_indices = random.sample(range(len(features_train)),200)\n",
    "XTrain = np.array(itemgetter(*rand_indices)(features_train))\n",
    "YTrain = np.array(itemgetter(*rand_indices)(labels_train))\n",
    "logistic_regression_pipe.fit(XTrain,YTrain)"
   ]
  },
  {
   "cell_type": "code",
   "execution_count": 14,
   "metadata": {},
   "outputs": [
    {
     "data": {
      "text/plain": [
       "(3837, 1600)"
      ]
     },
     "execution_count": 14,
     "metadata": {},
     "output_type": "execute_result"
    }
   ],
   "source": [
    "features_train.shape"
   ]
  },
  {
   "cell_type": "code",
   "execution_count": 15,
   "metadata": {},
   "outputs": [
    {
     "data": {
      "text/plain": [
       "(200, 1600)"
      ]
     },
     "execution_count": 15,
     "metadata": {},
     "output_type": "execute_result"
    }
   ],
   "source": [
    "XTrain.shape"
   ]
  },
  {
   "cell_type": "code",
   "execution_count": 34,
   "metadata": {},
   "outputs": [],
   "source": [
    "from sklearn.metrics import log_loss\n",
    "class MAML(object):\n",
    "    def __init__(self):\n",
    "        \n",
    "        #initialize number of tasks i.e number of tasks we need in each batch of tasks\n",
    "        self.num_tasks = 1\n",
    "        \n",
    "        #number of samples i.e number of shots  -number of data points (k) we need to have in each task\n",
    "        self.num_samples = 500\n",
    "\n",
    "        #number of epochs i.e training iterations\n",
    "        self.epochs = 10000\n",
    "    \n",
    "        #hyperparameter for the inner loop (inner gradient update)\n",
    "        self.alpha = 0.00001\n",
    "        \n",
    "        #hyperparameter for the outer loop (outer gradient update) i.e meta optimization\n",
    "        self.beta = 0.00001\n",
    "       \n",
    "        #randomly initialize our model parameter theta\n",
    "        self.theta = np.random.normal(size=150).reshape(1, 150)\n",
    "      \n",
    "    #define our sigmoid activation function  \n",
    "    def sigmoid(self,a):\n",
    "        \n",
    "        return 1.0 / (1 + np.exp(-a))\n",
    "    ## human vs cat-dog\n",
    "\n",
    "    \n",
    "    \n",
    "    #now let us get to the interesting part i.e training :P\n",
    "    def train(self):\n",
    "        \n",
    "        #for the number of epochs,\n",
    "        for e in range(self.epochs):        \n",
    "            \n",
    "            self.theta_ = []\n",
    "            #tasks = [human_animal(),male_female()]\n",
    "            \n",
    "            #for task i in batch of tasks\n",
    "            for i in range(self.num_tasks):\n",
    "               \n",
    "                #sample k data points and prepare our train set\n",
    "                #XTrain, YTrain = sample_points(self.num_samples)\n",
    "                rand_indices = random.sample(range(len(features_train)),self.num_samples)\n",
    "                XTrain = np.array(itemgetter(*rand_indices)(features_train))\n",
    "                YTrain = np.array(itemgetter(*rand_indices)(labels_train))\n",
    "                logistic_regression_pipe.fit(XTrain,YTrain)\n",
    "                # logic to get data from images directory\n",
    "\n",
    "\n",
    "                #a = np.matmul(XTrain, self.theta)\n",
    "                #YHat = self.sigmoid(a)\n",
    "                YHat = logistic_regression_pipe.predict(XTrain)\n",
    "                # call appropriate task and make prediction , tasks[i].\n",
    "\n",
    "                #since we are performing classification, we use cross entropy loss as our loss function\n",
    "                #loss = ((np.matmul(-YTrain.T, np.log(YHat)) - np.matmul((1 -YTrain.T), np.log(1 - YHat)))/self.num_samples)[0][0]\n",
    "                loss = log_loss(YTrain, YHat)\n",
    "                pca = PCA(n_components=150)\n",
    "                pca.fit(XTrain)\n",
    "                XTrain = pca.transform(XTrain)\n",
    "                \n",
    "                #minimize the loss by calculating gradients\n",
    "                gradient = np.matmul(XTrain.T, (YHat - YTrain)) / self.num_samples\n",
    "\n",
    "                #update the gradients and find the optimal parameter theta' for each of tasks\n",
    "                self.theta_.append(self.theta - self.alpha*gradient)\n",
    "                \n",
    "     \n",
    "            #initialize meta gradients\n",
    "            meta_gradient = np.zeros(self.theta.shape)\n",
    "                        \n",
    "            for i in range(self.num_tasks):\n",
    "            \n",
    "                #sample k data points and prepare our test set for meta training\n",
    "                #XTest, YTest = sample_points(10)\n",
    "                rand_indices = random.sample(range(len(features_test)),200)\n",
    "                XTest = np.array(itemgetter(*rand_indices)(features_test))\n",
    "                YTest = np.array(itemgetter(*rand_indices)(labels_test))\n",
    "                YPred = logistic_regression_pipe.predict(XTest)\n",
    "                pca = PCA(n_components=150)\n",
    "                pca.fit(XTest)\n",
    "                XTest = pca.transform(XTest)\n",
    "\n",
    "                #predict the value of y\n",
    "                #a = np.matmul(XTest, self.theta_[i])\n",
    "                \n",
    "                #YPred = self.sigmoid(a)\n",
    "                           \n",
    "                #compute meta gradients\n",
    "            \n",
    "                meta_gradient += np.matmul(XTest.T, (YPred - YTest)) / self.num_samples\n",
    "\n",
    "  \n",
    "            #update our randomly initialized model parameter theta with the meta gradients\n",
    "            self.theta = self.theta-self.beta*meta_gradient/self.num_tasks\n",
    "            #print(self.theta.shape)\n",
    "            logistic_regression_pipe.named_steps['classifier'].coef_ = self.theta\n",
    "            #print( sum(self.theta == logistic_regression_pipe.named_steps['classifier'].coef_) )\n",
    "            if e % 100 == 0:\n",
    "                print(loss)\n",
    "            #if loss < 0.3:\n",
    "             #   break\n",
    "         "
   ]
  },
  {
   "cell_type": "code",
   "execution_count": 35,
   "metadata": {
    "scrolled": true
   },
   "outputs": [
    {
     "name": "stdout",
     "output_type": "stream",
     "text": [
      "1.3124878957603503\n",
      "1.5197221533246748\n",
      "0.20723425756432542\n",
      "1.9341954660379046\n",
      "1.0361776846010649\n",
      "1.726956410888999\n",
      "1.5197221533246745\n",
      "1.7960371620685411\n",
      "1.5888029045042167\n",
      "1.4506509973142951\n",
      "1.7269564108889992\n",
      "0.8980209798265616\n",
      "2.003276217217447\n",
      "2.0723537700072683\n",
      "1.105258435780607\n",
      "0.3453925615336889\n",
      "0.7598642750520586\n",
      "2.6940549435053813\n",
      "0.6217075702775555\n",
      "0.8289386294521591\n",
      "2.1414297236022293\n",
      "1.5197221533246745\n",
      "1.5887981069196357\n",
      "1.5197269509092557\n",
      "0.8980193806317013\n",
      "0.8980177814368409\n",
      "0.48355086550305243\n",
      "1.5888029045042167\n",
      "0.8980177814368409\n",
      "0.898017781436841\n",
      "0.5526332158774548\n",
      "1.3124974909295126\n",
      "1.4506446005348534\n",
      "0.3453909623388285\n",
      "0.9670985326163829\n",
      "1.3124910941500711\n",
      "0.9670985326163832\n",
      "0.690781924677656\n",
      "1.5197269509092557\n",
      "0.4144701143235103\n",
      "2.7631388930746437\n",
      "2.5558966395360176\n",
      "1.1743327901807077\n",
      "2.9012923994594266\n",
      "1.9341954660379046\n",
      "1.5197221533246745\n",
      "0.34539256153368886\n",
      "2.4177479307358167\n",
      "0.8980193806317012\n",
      "1.174331190985847\n",
      "0.06907915198468273\n",
      "1.5888029045042167\n",
      "2.210508875586911\n",
      "1.588804503699077\n",
      "2.4868222851359167\n",
      "2.6249741923258387\n",
      "1.1743343893755678\n",
      "1.105250439806305\n",
      "0.8980209798265616\n",
      "1.8651147148583624\n",
      "1.1052568365857465\n",
      "1.4506461997297138\n",
      "2.348665580361414\n",
      "1.5197221533246748\n",
      "0.5526284182928737\n",
      "1.8651195124429438\n",
      "1.6578820564888987\n",
      "1.72695960927872\n",
      "2.072352170812408\n",
      "1.865116314053223\n",
      "1.1052552373908862\n",
      "1.2434135413602498\n",
      "2.3486623819716934\n",
      "1.312491094150071\n",
      "1.036177684601065\n",
      "1.2434135413602496\n",
      "0.7598642750520586\n",
      "1.9341938668430443\n",
      "1.8651147148583627\n",
      "0.9671001318112435\n",
      "2.3486719771408557\n",
      "0.8980193806317013\n",
      "1.9341970652327651\n",
      "3.315759315393215\n",
      "1.9341938668430443\n",
      "0.4144701143235103\n",
      "1.1743311909858472\n",
      "3.039455501013371\n",
      "1.8651195124429436\n",
      "2.4868206859410567\n",
      "0.20723425756432542\n",
      "1.0361792837959252\n",
      "1.7269612084735804\n",
      "1.31248789576035\n",
      "1.8651131156635024\n",
      "1.7960419596531223\n",
      "1.7269564108889992\n",
      "1.7960355628736808\n",
      "1.3815654485501714\n",
      "1.3815686469398925\n"
     ]
    }
   ],
   "source": [
    "MAML().train()"
   ]
  },
  {
   "cell_type": "code",
   "execution_count": 13,
   "metadata": {},
   "outputs": [
    {
     "name": "stderr",
     "output_type": "stream",
     "text": [
      "D:\\anaconda\\lib\\site-packages\\sklearn\\linear_model\\_logistic.py:940: ConvergenceWarning: lbfgs failed to converge (status=1):\n",
      "STOP: TOTAL NO. of ITERATIONS REACHED LIMIT.\n",
      "\n",
      "Increase the number of iterations (max_iter) or scale the data as shown in:\n",
      "    https://scikit-learn.org/stable/modules/preprocessing.html\n",
      "Please also refer to the documentation for alternative solver options:\n",
      "    https://scikit-learn.org/stable/modules/linear_model.html#logistic-regression\n",
      "  extra_warning_msg=_LOGISTIC_SOLVER_CONVERGENCE_MSG)\n"
     ]
    }
   ],
   "source": [
    "classifier.fit(features_train, labels_train)\n",
    "coef = classifier.coef_[0]"
   ]
  },
  {
   "cell_type": "code",
   "execution_count": 37,
   "metadata": {},
   "outputs": [
    {
     "data": {
      "text/plain": [
       "(1, 150)"
      ]
     },
     "execution_count": 37,
     "metadata": {},
     "output_type": "execute_result"
    }
   ],
   "source": [
    "logistic_regression_pipe.named_steps['classifier'].coef_.shape"
   ]
  },
  {
   "cell_type": "code",
   "execution_count": 14,
   "metadata": {},
   "outputs": [
    {
     "name": "stdout",
     "output_type": "stream",
     "text": [
      "[ 2.42034540e-03  4.38542456e-05 -2.22780118e-03 ...  9.60718626e-04\n",
      "  1.08336863e-03 -3.75707659e-03]\n"
     ]
    }
   ],
   "source": [
    "print (coef)"
   ]
  },
  {
   "cell_type": "code",
   "execution_count": 15,
   "metadata": {},
   "outputs": [
    {
     "name": "stdout",
     "output_type": "stream",
     "text": [
      "1600\n"
     ]
    }
   ],
   "source": [
    "print(len(coef))"
   ]
  },
  {
   "cell_type": "code",
   "execution_count": 36,
   "metadata": {},
   "outputs": [
    {
     "name": "stdout",
     "output_type": "stream",
     "text": [
      "Basic logistic regression test accuracy score: 0.48145896656534953\n",
      "Basic logistic regression train accuracy score: 0.436799583007558\n",
      "Basic logistic regression F1 score: 0.4618296529968455\n"
     ]
    }
   ],
   "source": [
    "print(\"Basic logistic regression test accuracy score: {}\".format(\n",
    "    logistic_regression_pipe.score(features_test, labels_test)))\n",
    "print(\"Basic logistic regression train accuracy score: {}\".format(\n",
    "    logistic_regression_pipe.score(features_train, labels_train)))\n",
    "print(\"Basic logistic regression F1 score: {}\".format(\n",
    "    f1_score(labels_test, logistic_regression_pipe.predict(features_test))))"
   ]
  },
  {
   "cell_type": "code",
   "execution_count": 28,
   "metadata": {},
   "outputs": [
    {
     "name": "stdout",
     "output_type": "stream",
     "text": [
      "Basic logistic regression test accuracy score: 0.8932038834951457\n",
      "Basic logistic regression train accuracy score: 1.0\n",
      "Basic logistic regression F1 score: 0.9054441260744985\n"
     ]
    }
   ],
   "source": [
    "print(\"Basic logistic regression test accuracy score: {}\".format(\n",
    "    logistic_regression_pipe.score(features_test, labels_test)))\n",
    "print(\"Basic logistic regression train accuracy score: {}\".format(\n",
    "    logistic_regression_pipe.score(features_train, labels_train)))\n",
    "print(\"Basic logistic regression F1 score: {}\".format(\n",
    "    f1_score(labels_test, logistic_regression_pipe.predict(features_test))))"
   ]
  },
  {
   "cell_type": "markdown",
   "metadata": {},
   "source": [
    "The result seems fairly good but we need to check whether this is due to the separation of data (see the difference between the train score and the test score). Moreover we also need to look for better parameters. So we have to make kFold cross-validation and grid search."
   ]
  },
  {
   "cell_type": "markdown",
   "metadata": {},
   "source": [
    "# Tune the Logistic Regression params"
   ]
  },
  {
   "cell_type": "code",
   "execution_count": 30,
   "metadata": {},
   "outputs": [
    {
     "data": {
      "text/plain": [
       "GridSearchCV(cv=StratifiedKFold(n_splits=8, random_state=None, shuffle=False),\n",
       "             error_score=nan,\n",
       "             estimator=Pipeline(memory=None,\n",
       "                                steps=[('scaler_before',\n",
       "                                        StandardScaler(copy=True,\n",
       "                                                       with_mean=True,\n",
       "                                                       with_std=True)),\n",
       "                                       ('pca',\n",
       "                                        PCA(copy=True, iterated_power='auto',\n",
       "                                            n_components=440, random_state=None,\n",
       "                                            svd_solver='auto', tol=0.0,\n",
       "                                            whiten=False)),\n",
       "                                       ('scaler_after',\n",
       "                                        StandardScal...\n",
       "                                                           intercept_scaling=1,\n",
       "                                                           l1_ratio=None,\n",
       "                                                           max_iter=100,\n",
       "                                                           multi_class='auto',\n",
       "                                                           n_jobs=None,\n",
       "                                                           penalty='l2',\n",
       "                                                           random_state=42,\n",
       "                                                           solver='lbfgs',\n",
       "                                                           tol=0.0001,\n",
       "                                                           verbose=0,\n",
       "                                                           warm_start=False))],\n",
       "                                verbose=False),\n",
       "             iid='deprecated', n_jobs=6,\n",
       "             param_grid={'classifier__C': [0.0001, 0.001, 0.01, 1],\n",
       "                         'pca__n_components': [440, 320]},\n",
       "             pre_dispatch='2*n_jobs', refit=True, return_train_score=True,\n",
       "             scoring=None, verbose=0)"
      ]
     },
     "execution_count": 30,
     "metadata": {},
     "output_type": "execute_result"
    }
   ],
   "source": [
    "# split the data to train and test set\n",
    "features_train, features_test, labels_train, labels_test = train_test_split(\n",
    "    features, labels, train_size=0.7, test_size=0.3, random_state=12345)\n",
    "\n",
    "params = dict(classifier__C=[0.0001, 0.001, 0.01, 1],\n",
    "              #classifier__penalty=['l1', 'l2'],\n",
    "              pca__n_components=[440, 320])\n",
    "\n",
    "# init kFold validation\n",
    "kfold = StratifiedKFold(n_splits=8)\n",
    "\n",
    "# Grid search for the best Logistic Regression parameters\n",
    "grid_search_logistic_regresion = GridSearchCV(\n",
    "    logistic_regression_pipe, param_grid=params, cv=kfold, return_train_score=True, n_jobs=6)\n",
    "\n",
    "grid_search_logistic_regresion.fit(features_train, labels_train)"
   ]
  },
  {
   "cell_type": "code",
   "execution_count": 31,
   "metadata": {},
   "outputs": [
    {
     "data": {
      "text/plain": [
       "{'classifier__C': 0.01, 'pca__n_components': 320}"
      ]
     },
     "execution_count": 31,
     "metadata": {},
     "output_type": "execute_result"
    }
   ],
   "source": [
    "grid_search_logistic_regresion.best_params_"
   ]
  },
  {
   "cell_type": "code",
   "execution_count": 32,
   "metadata": {},
   "outputs": [
    {
     "name": "stdout",
     "output_type": "stream",
     "text": [
      "Logistic Regression Grid Search best score: 0.8578963795255931\n"
     ]
    }
   ],
   "source": [
    "print(\"Logistic Regression Grid Search best score: {}\".format(grid_search_logistic_regresion.best_score_))"
   ]
  },
  {
   "cell_type": "code",
   "execution_count": 33,
   "metadata": {},
   "outputs": [
    {
     "data": {
      "text/html": [
       "<div>\n",
       "<style scoped>\n",
       "    .dataframe tbody tr th:only-of-type {\n",
       "        vertical-align: middle;\n",
       "    }\n",
       "\n",
       "    .dataframe tbody tr th {\n",
       "        vertical-align: top;\n",
       "    }\n",
       "\n",
       "    .dataframe thead th {\n",
       "        text-align: right;\n",
       "    }\n",
       "</style>\n",
       "<table border=\"1\" class=\"dataframe\">\n",
       "  <thead>\n",
       "    <tr style=\"text-align: right;\">\n",
       "      <th></th>\n",
       "      <th>param_C</th>\n",
       "      <th>param_pca</th>\n",
       "      <th>split0_test</th>\n",
       "      <th>split1_test</th>\n",
       "      <th>split2_test</th>\n",
       "      <th>split3_test</th>\n",
       "      <th>split4_test</th>\n",
       "      <th>split5_test</th>\n",
       "      <th>split6_test</th>\n",
       "      <th>split7_test</th>\n",
       "      <th>...</th>\n",
       "      <th>split0_train</th>\n",
       "      <th>split1_train</th>\n",
       "      <th>split2_train</th>\n",
       "      <th>split3_train</th>\n",
       "      <th>split4_train</th>\n",
       "      <th>split5_train</th>\n",
       "      <th>split6_train</th>\n",
       "      <th>split7_train</th>\n",
       "      <th>mean_train</th>\n",
       "      <th>std_train_score</th>\n",
       "    </tr>\n",
       "  </thead>\n",
       "  <tbody>\n",
       "    <tr>\n",
       "      <th>5</th>\n",
       "      <td>0.01</td>\n",
       "      <td>320</td>\n",
       "      <td>0.833333</td>\n",
       "      <td>0.844444</td>\n",
       "      <td>0.888889</td>\n",
       "      <td>0.833333</td>\n",
       "      <td>0.844444</td>\n",
       "      <td>0.933333</td>\n",
       "      <td>0.853933</td>\n",
       "      <td>0.831461</td>\n",
       "      <td>...</td>\n",
       "      <td>0.988854</td>\n",
       "      <td>0.988854</td>\n",
       "      <td>0.987261</td>\n",
       "      <td>0.992038</td>\n",
       "      <td>0.985669</td>\n",
       "      <td>0.987261</td>\n",
       "      <td>0.993641</td>\n",
       "      <td>0.988871</td>\n",
       "      <td>0.989056</td>\n",
       "      <td>0.002448</td>\n",
       "    </tr>\n",
       "    <tr>\n",
       "      <th>7</th>\n",
       "      <td>1</td>\n",
       "      <td>320</td>\n",
       "      <td>0.833333</td>\n",
       "      <td>0.844444</td>\n",
       "      <td>0.855556</td>\n",
       "      <td>0.833333</td>\n",
       "      <td>0.844444</td>\n",
       "      <td>0.866667</td>\n",
       "      <td>0.797753</td>\n",
       "      <td>0.820225</td>\n",
       "      <td>...</td>\n",
       "      <td>1.000000</td>\n",
       "      <td>1.000000</td>\n",
       "      <td>1.000000</td>\n",
       "      <td>1.000000</td>\n",
       "      <td>1.000000</td>\n",
       "      <td>1.000000</td>\n",
       "      <td>1.000000</td>\n",
       "      <td>1.000000</td>\n",
       "      <td>1.000000</td>\n",
       "      <td>0.000000</td>\n",
       "    </tr>\n",
       "    <tr>\n",
       "      <th>6</th>\n",
       "      <td>1</td>\n",
       "      <td>440</td>\n",
       "      <td>0.822222</td>\n",
       "      <td>0.788889</td>\n",
       "      <td>0.811111</td>\n",
       "      <td>0.811111</td>\n",
       "      <td>0.833333</td>\n",
       "      <td>0.866667</td>\n",
       "      <td>0.876404</td>\n",
       "      <td>0.831461</td>\n",
       "      <td>...</td>\n",
       "      <td>1.000000</td>\n",
       "      <td>1.000000</td>\n",
       "      <td>1.000000</td>\n",
       "      <td>1.000000</td>\n",
       "      <td>1.000000</td>\n",
       "      <td>1.000000</td>\n",
       "      <td>1.000000</td>\n",
       "      <td>1.000000</td>\n",
       "      <td>1.000000</td>\n",
       "      <td>0.000000</td>\n",
       "    </tr>\n",
       "    <tr>\n",
       "      <th>4</th>\n",
       "      <td>0.01</td>\n",
       "      <td>440</td>\n",
       "      <td>0.822222</td>\n",
       "      <td>0.811111</td>\n",
       "      <td>0.833333</td>\n",
       "      <td>0.800000</td>\n",
       "      <td>0.811111</td>\n",
       "      <td>0.888889</td>\n",
       "      <td>0.842697</td>\n",
       "      <td>0.831461</td>\n",
       "      <td>...</td>\n",
       "      <td>0.996815</td>\n",
       "      <td>0.996815</td>\n",
       "      <td>1.000000</td>\n",
       "      <td>1.000000</td>\n",
       "      <td>1.000000</td>\n",
       "      <td>0.998408</td>\n",
       "      <td>0.998410</td>\n",
       "      <td>0.996820</td>\n",
       "      <td>0.998409</td>\n",
       "      <td>0.001378</td>\n",
       "    </tr>\n",
       "    <tr>\n",
       "      <th>3</th>\n",
       "      <td>0.001</td>\n",
       "      <td>320</td>\n",
       "      <td>0.844444</td>\n",
       "      <td>0.811111</td>\n",
       "      <td>0.844444</td>\n",
       "      <td>0.744444</td>\n",
       "      <td>0.811111</td>\n",
       "      <td>0.833333</td>\n",
       "      <td>0.808989</td>\n",
       "      <td>0.752809</td>\n",
       "      <td>...</td>\n",
       "      <td>0.952229</td>\n",
       "      <td>0.966561</td>\n",
       "      <td>0.947452</td>\n",
       "      <td>0.958599</td>\n",
       "      <td>0.942675</td>\n",
       "      <td>0.945860</td>\n",
       "      <td>0.955485</td>\n",
       "      <td>0.953895</td>\n",
       "      <td>0.952844</td>\n",
       "      <td>0.007167</td>\n",
       "    </tr>\n",
       "    <tr>\n",
       "      <th>2</th>\n",
       "      <td>0.001</td>\n",
       "      <td>440</td>\n",
       "      <td>0.833333</td>\n",
       "      <td>0.744444</td>\n",
       "      <td>0.777778</td>\n",
       "      <td>0.777778</td>\n",
       "      <td>0.811111</td>\n",
       "      <td>0.855556</td>\n",
       "      <td>0.842697</td>\n",
       "      <td>0.786517</td>\n",
       "      <td>...</td>\n",
       "      <td>0.987261</td>\n",
       "      <td>0.984076</td>\n",
       "      <td>0.988854</td>\n",
       "      <td>0.992038</td>\n",
       "      <td>0.982484</td>\n",
       "      <td>0.984076</td>\n",
       "      <td>0.990461</td>\n",
       "      <td>0.985692</td>\n",
       "      <td>0.986868</td>\n",
       "      <td>0.003161</td>\n",
       "    </tr>\n",
       "    <tr>\n",
       "      <th>0</th>\n",
       "      <td>0.0001</td>\n",
       "      <td>440</td>\n",
       "      <td>0.533333</td>\n",
       "      <td>0.533333</td>\n",
       "      <td>0.522222</td>\n",
       "      <td>0.522222</td>\n",
       "      <td>0.522222</td>\n",
       "      <td>0.522222</td>\n",
       "      <td>0.528090</td>\n",
       "      <td>0.528090</td>\n",
       "      <td>...</td>\n",
       "      <td>0.525478</td>\n",
       "      <td>0.525478</td>\n",
       "      <td>0.527070</td>\n",
       "      <td>0.527070</td>\n",
       "      <td>0.527070</td>\n",
       "      <td>0.527070</td>\n",
       "      <td>0.526232</td>\n",
       "      <td>0.526232</td>\n",
       "      <td>0.526462</td>\n",
       "      <td>0.000664</td>\n",
       "    </tr>\n",
       "    <tr>\n",
       "      <th>1</th>\n",
       "      <td>0.0001</td>\n",
       "      <td>320</td>\n",
       "      <td>0.533333</td>\n",
       "      <td>0.533333</td>\n",
       "      <td>0.522222</td>\n",
       "      <td>0.522222</td>\n",
       "      <td>0.522222</td>\n",
       "      <td>0.522222</td>\n",
       "      <td>0.528090</td>\n",
       "      <td>0.528090</td>\n",
       "      <td>...</td>\n",
       "      <td>0.525478</td>\n",
       "      <td>0.525478</td>\n",
       "      <td>0.527070</td>\n",
       "      <td>0.527070</td>\n",
       "      <td>0.527070</td>\n",
       "      <td>0.527070</td>\n",
       "      <td>0.526232</td>\n",
       "      <td>0.526232</td>\n",
       "      <td>0.526462</td>\n",
       "      <td>0.000664</td>\n",
       "    </tr>\n",
       "  </tbody>\n",
       "</table>\n",
       "<p>8 rows × 23 columns</p>\n",
       "</div>"
      ],
      "text/plain": [
       "  param_C param_pca  split0_test  split1_test  split2_test  split3_test  \\\n",
       "5    0.01       320     0.833333     0.844444     0.888889     0.833333   \n",
       "7       1       320     0.833333     0.844444     0.855556     0.833333   \n",
       "6       1       440     0.822222     0.788889     0.811111     0.811111   \n",
       "4    0.01       440     0.822222     0.811111     0.833333     0.800000   \n",
       "3   0.001       320     0.844444     0.811111     0.844444     0.744444   \n",
       "2   0.001       440     0.833333     0.744444     0.777778     0.777778   \n",
       "0  0.0001       440     0.533333     0.533333     0.522222     0.522222   \n",
       "1  0.0001       320     0.533333     0.533333     0.522222     0.522222   \n",
       "\n",
       "   split4_test  split5_test  split6_test  split7_test  ...  split0_train  \\\n",
       "5     0.844444     0.933333     0.853933     0.831461  ...      0.988854   \n",
       "7     0.844444     0.866667     0.797753     0.820225  ...      1.000000   \n",
       "6     0.833333     0.866667     0.876404     0.831461  ...      1.000000   \n",
       "4     0.811111     0.888889     0.842697     0.831461  ...      0.996815   \n",
       "3     0.811111     0.833333     0.808989     0.752809  ...      0.952229   \n",
       "2     0.811111     0.855556     0.842697     0.786517  ...      0.987261   \n",
       "0     0.522222     0.522222     0.528090     0.528090  ...      0.525478   \n",
       "1     0.522222     0.522222     0.528090     0.528090  ...      0.525478   \n",
       "\n",
       "   split1_train  split2_train  split3_train  split4_train  split5_train  \\\n",
       "5      0.988854      0.987261      0.992038      0.985669      0.987261   \n",
       "7      1.000000      1.000000      1.000000      1.000000      1.000000   \n",
       "6      1.000000      1.000000      1.000000      1.000000      1.000000   \n",
       "4      0.996815      1.000000      1.000000      1.000000      0.998408   \n",
       "3      0.966561      0.947452      0.958599      0.942675      0.945860   \n",
       "2      0.984076      0.988854      0.992038      0.982484      0.984076   \n",
       "0      0.525478      0.527070      0.527070      0.527070      0.527070   \n",
       "1      0.525478      0.527070      0.527070      0.527070      0.527070   \n",
       "\n",
       "   split6_train  split7_train  mean_train  std_train_score  \n",
       "5      0.993641      0.988871    0.989056         0.002448  \n",
       "7      1.000000      1.000000    1.000000         0.000000  \n",
       "6      1.000000      1.000000    1.000000         0.000000  \n",
       "4      0.998410      0.996820    0.998409         0.001378  \n",
       "3      0.955485      0.953895    0.952844         0.007167  \n",
       "2      0.990461      0.985692    0.986868         0.003161  \n",
       "0      0.526232      0.526232    0.526462         0.000664  \n",
       "1      0.526232      0.526232    0.526462         0.000664  \n",
       "\n",
       "[8 rows x 23 columns]"
      ]
     },
     "execution_count": 33,
     "metadata": {},
     "output_type": "execute_result"
    }
   ],
   "source": [
    "\n",
    "print_grid_search_results(grid_search_logistic_regresion, splits=8)"
   ]
  },
  {
   "cell_type": "markdown",
   "metadata": {},
   "source": [
    "# Learning curve\n",
    "The Learning curve would help us figure out if our algorithm suffers from a high bias or high variance"
   ]
  },
  {
   "cell_type": "code",
   "execution_count": 41,
   "metadata": {},
   "outputs": [
    {
     "data": {
      "image/png": "[encoded data removed]",
      "text/plain": [
       "<Figure size 432x288 with 1 Axes>"
      ]
     },
     "metadata": {
      "needs_background": "light"
     },
     "output_type": "display_data"
    }
   ],
   "source": [
    "\n",
    "title = \"Learning Curves (Logistic Regression)\"\n",
    "cv = ShuffleSplit(n_splits=100, test_size=0.9, random_state=0)\n",
    "scaled_features = StandardScaler().fit_transform(features)\n",
    "pca_features = PCA(n_components=150).fit_transform(scaled_features)\n",
    "linear_regression_estimator = LogisticRegression(C=0.001)\n",
    "\n",
    "plot_learning_curve(linear_regression_estimator, title, pca_features, labels, ylim=(0.4, 2.), cv=cv, n_jobs=4)\n",
    "plt.show()"
   ]
  },
  {
   "cell_type": "markdown",
   "metadata": {},
   "source": [
    "It can be seen from the figure above that with appropriate regularization or increasing in the number of samples, we can reduce the variance between test data and train data significantly but we can not achieve a score greater than 0.85. This means that in order to achieve better results we may change the bias because we have high bias problem - the curves are close to each other and both of them have lower than desired score."
   ]
  },
  {
   "cell_type": "code",
   "execution_count": 42,
   "metadata": {},
   "outputs": [
    {
     "data": {
      "image/png": "[encoded data removed]",
      "text/plain": [
       "<Figure size 432x288 with 2 Axes>"
      ]
     },
     "metadata": {
      "needs_background": "light"
     },
     "output_type": "display_data"
    }
   ],
   "source": [
    "cnf_matrix = confusion_matrix(labels_test, grid_search_logistic_regresion.best_estimator_.predict(features_test))\n",
    "np.set_printoptions(precision=2)\n",
    "\n",
    "# Plot confusion matrix\n",
    "plt.figure()\n",
    "plot_confusion_matrix(cnf_matrix, classes=np.array([\"Males\", \"Females\"]), \n",
    "                      title='Confusion matrix, without normalization')\n",
    "plt.show()"
   ]
  },
  {
   "cell_type": "code",
   "execution_count": 43,
   "metadata": {},
   "outputs": [
    {
     "data": {
      "image/png": "[encoded data removed]",
      "text/plain": [
       "<Figure size 432x288 with 1 Axes>"
      ]
     },
     "metadata": {
      "needs_background": "light"
     },
     "output_type": "display_data"
    }
   ],
   "source": [
    "estimator = grid_search_logistic_regresion.best_estimator_\n",
    "roc = plot_roc_curve(estimator, features_test, labels_test, title=\"Logistic Regression\")\n",
    "roc.show()"
   ]
  },
  {
   "cell_type": "markdown",
   "metadata": {},
   "source": [
    "# Train SVM model"
   ]
  },
  {
   "cell_type": "code",
   "execution_count": 44,
   "metadata": {},
   "outputs": [],
   "source": [
    "features_train, features_test, labels_train, labels_test = train_test_split(\n",
    "    features, labels, train_size=0.7, test_size=0.3, random_state=12345)"
   ]
  },
  {
   "cell_type": "code",
   "execution_count": 45,
   "metadata": {},
   "outputs": [
    {
     "name": "stderr",
     "output_type": "stream",
     "text": [
      "D:\\anaconda\\lib\\site-packages\\sklearn\\svm\\_base.py:947: ConvergenceWarning: Liblinear failed to converge, increase the number of iterations.\n",
      "  \"the number of iterations.\", ConvergenceWarning)\n"
     ]
    },
    {
     "data": {
      "text/plain": [
       "Pipeline(memory=None,\n",
       "         steps=[('scl',\n",
       "                 StandardScaler(copy=True, with_mean=True, with_std=True)),\n",
       "                ('pca',\n",
       "                 PCA(copy=True, iterated_power='auto', n_components=200,\n",
       "                     random_state=42, svd_solver='auto', tol=0.0,\n",
       "                     whiten=False)),\n",
       "                ('scl_2',\n",
       "                 StandardScaler(copy=True, with_mean=True, with_std=True)),\n",
       "                ('clf',\n",
       "                 LinearSVC(C=1.0, class_weight=None, dual=True,\n",
       "                           fit_intercept=True, intercept_scaling=1,\n",
       "                           loss='squared_hinge', max_iter=1000,\n",
       "                           multi_class='ovr', penalty='l2', random_state=42,\n",
       "                           tol=0.0001, verbose=0))],\n",
       "         verbose=False)"
      ]
     },
     "execution_count": 45,
     "metadata": {},
     "output_type": "execute_result"
    }
   ],
   "source": [
    "linear_svm = LinearSVC(random_state=42)\n",
    "linear_svm_pipeline = Pipeline(steps=[('scl', StandardScaler()), \n",
    "                               ('pca', PCA(n_components=200, random_state=42)),\n",
    "                               ('scl_2', StandardScaler()),\n",
    "                               ('clf', linear_svm)])\n",
    "\n",
    "linear_svm_pipeline.fit(features_train, labels_train)"
   ]
  },
  {
   "cell_type": "code",
   "execution_count": 46,
   "metadata": {},
   "outputs": [
    {
     "name": "stdout",
     "output_type": "stream",
     "text": [
      "Train score: 0.8694292415949961\n",
      "Test score: 0.8486322188449849\n",
      "Diff score: 0.020797022750011274\n"
     ]
    }
   ],
   "source": [
    "print(\"Train score: {}\".format(linear_svm_pipeline.score(features_train, labels_train)))\n",
    "print(\"Test score: {}\".format(linear_svm_pipeline.score(features_test, labels_test)))\n",
    "print(\"Diff score: {}\".format(\n",
    "    linear_svm_pipeline.score(features_train, labels_train) - linear_svm_pipeline.score(features_test, labels_test)))"
   ]
  },
  {
   "cell_type": "markdown",
   "metadata": {},
   "source": [
    "The difference between the train score and the test score is relatively high and the train score is very high. That means high variance and/or imbalanced data between the training set and the test set. So we need to perform k-Fold cross-validation with stratification and grid search to evaluate the variance and the best parameters for this algorithm with the concrete amount of training data."
   ]
  },
  {
   "cell_type": "markdown",
   "metadata": {},
   "source": [
    "# Tune svm"
   ]
  },
  {
   "cell_type": "code",
   "execution_count": 48,
   "metadata": {
    "scrolled": true
   },
   "outputs": [
    {
     "name": "stderr",
     "output_type": "stream",
     "text": [
      "D:\\anaconda\\lib\\site-packages\\sklearn\\svm\\_base.py:947: ConvergenceWarning: Liblinear failed to converge, increase the number of iterations.\n",
      "  \"the number of iterations.\", ConvergenceWarning)\n",
      "D:\\anaconda\\lib\\site-packages\\sklearn\\svm\\_base.py:947: ConvergenceWarning: Liblinear failed to converge, increase the number of iterations.\n",
      "  \"the number of iterations.\", ConvergenceWarning)\n",
      "D:\\anaconda\\lib\\site-packages\\sklearn\\svm\\_base.py:947: ConvergenceWarning: Liblinear failed to converge, increase the number of iterations.\n",
      "  \"the number of iterations.\", ConvergenceWarning)\n",
      "D:\\anaconda\\lib\\site-packages\\sklearn\\svm\\_base.py:947: ConvergenceWarning: Liblinear failed to converge, increase the number of iterations.\n",
      "  \"the number of iterations.\", ConvergenceWarning)\n",
      "D:\\anaconda\\lib\\site-packages\\sklearn\\svm\\_base.py:947: ConvergenceWarning: Liblinear failed to converge, increase the number of iterations.\n",
      "  \"the number of iterations.\", ConvergenceWarning)\n",
      "D:\\anaconda\\lib\\site-packages\\sklearn\\svm\\_base.py:947: ConvergenceWarning: Liblinear failed to converge, increase the number of iterations.\n",
      "  \"the number of iterations.\", ConvergenceWarning)\n",
      "D:\\anaconda\\lib\\site-packages\\sklearn\\svm\\_base.py:947: ConvergenceWarning: Liblinear failed to converge, increase the number of iterations.\n",
      "  \"the number of iterations.\", ConvergenceWarning)\n",
      "D:\\anaconda\\lib\\site-packages\\sklearn\\svm\\_base.py:947: ConvergenceWarning: Liblinear failed to converge, increase the number of iterations.\n",
      "  \"the number of iterations.\", ConvergenceWarning)\n",
      "D:\\anaconda\\lib\\site-packages\\sklearn\\svm\\_base.py:947: ConvergenceWarning: Liblinear failed to converge, increase the number of iterations.\n",
      "  \"the number of iterations.\", ConvergenceWarning)\n",
      "D:\\anaconda\\lib\\site-packages\\sklearn\\svm\\_base.py:947: ConvergenceWarning: Liblinear failed to converge, increase the number of iterations.\n",
      "  \"the number of iterations.\", ConvergenceWarning)\n",
      "D:\\anaconda\\lib\\site-packages\\sklearn\\svm\\_base.py:947: ConvergenceWarning: Liblinear failed to converge, increase the number of iterations.\n",
      "  \"the number of iterations.\", ConvergenceWarning)\n",
      "D:\\anaconda\\lib\\site-packages\\sklearn\\svm\\_base.py:947: ConvergenceWarning: Liblinear failed to converge, increase the number of iterations.\n",
      "  \"the number of iterations.\", ConvergenceWarning)\n",
      "D:\\anaconda\\lib\\site-packages\\sklearn\\svm\\_base.py:947: ConvergenceWarning: Liblinear failed to converge, increase the number of iterations.\n",
      "  \"the number of iterations.\", ConvergenceWarning)\n",
      "D:\\anaconda\\lib\\site-packages\\sklearn\\svm\\_base.py:947: ConvergenceWarning: Liblinear failed to converge, increase the number of iterations.\n",
      "  \"the number of iterations.\", ConvergenceWarning)\n"
     ]
    }
   ],
   "source": [
    "linear_svm_params = dict(clf__C = [0.0001, 0.001, 1], pca__n_components=[150, 200]) # clf__C =0.00001, 0.0001, 0.001, clf__dual = [True, False]\n",
    "kfold = StratifiedKFold(n_splits=7)\n",
    "grid_search_linear_svm = GridSearchCV(\n",
    "    linear_svm_pipeline, param_grid=linear_svm_params, cv=kfold, return_train_score=True)\n",
    "\n",
    "start = time.time()\n",
    "grid_search_linear_svm.fit(features_train, labels_train)\n",
    "end = time.time()"
   ]
  },
  {
   "cell_type": "code",
   "execution_count": 49,
   "metadata": {},
   "outputs": [
    {
     "name": "stdout",
     "output_type": "stream",
     "text": [
      "GridSearchCV took {98.00} seconds for 6 candidate parameter settings.\n"
     ]
    }
   ],
   "source": [
    "print(\"GridSearchCV took {%.2f} seconds for %d candidate parameter settings.\"\n",
    "      % (end - start, len(grid_search_linear_svm.cv_results_['params'])))"
   ]
  },
  {
   "cell_type": "code",
   "execution_count": 50,
   "metadata": {},
   "outputs": [
    {
     "data": {
      "text/plain": [
       "{'clf__C': 0.001, 'pca__n_components': 200}"
      ]
     },
     "execution_count": 50,
     "metadata": {},
     "output_type": "execute_result"
    }
   ],
   "source": [
    "grid_search_linear_svm.best_params_ "
   ]
  },
  {
   "cell_type": "code",
   "execution_count": 51,
   "metadata": {},
   "outputs": [
    {
     "data": {
      "text/plain": [
       "0.8425837288766569"
      ]
     },
     "execution_count": 51,
     "metadata": {},
     "output_type": "execute_result"
    }
   ],
   "source": [
    "grid_search_linear_svm.best_score_"
   ]
  },
  {
   "cell_type": "code",
   "execution_count": 52,
   "metadata": {},
   "outputs": [
    {
     "data": {
      "text/plain": [
       "0.851063829787234"
      ]
     },
     "execution_count": 52,
     "metadata": {},
     "output_type": "execute_result"
    }
   ],
   "source": [
    "grid_search_linear_svm.best_estimator_.score(features_test, labels_test) "
   ]
  },
  {
   "cell_type": "code",
   "execution_count": 53,
   "metadata": {},
   "outputs": [
    {
     "data": {
      "text/plain": [
       "0.870471722700026"
      ]
     },
     "execution_count": 53,
     "metadata": {},
     "output_type": "execute_result"
    }
   ],
   "source": [
    "grid_search_linear_svm.best_estimator_.score(features_train, labels_train) "
   ]
  },
  {
   "cell_type": "code",
   "execution_count": 54,
   "metadata": {},
   "outputs": [
    {
     "data": {
      "text/html": [
       "<div>\n",
       "<style scoped>\n",
       "    .dataframe tbody tr th:only-of-type {\n",
       "        vertical-align: middle;\n",
       "    }\n",
       "\n",
       "    .dataframe tbody tr th {\n",
       "        vertical-align: top;\n",
       "    }\n",
       "\n",
       "    .dataframe thead th {\n",
       "        text-align: right;\n",
       "    }\n",
       "</style>\n",
       "<table border=\"1\" class=\"dataframe\">\n",
       "  <thead>\n",
       "    <tr style=\"text-align: right;\">\n",
       "      <th></th>\n",
       "      <th>param_clf__C</th>\n",
       "      <th>param_pca</th>\n",
       "      <th>split0_test</th>\n",
       "      <th>split1_test</th>\n",
       "      <th>split2_test</th>\n",
       "      <th>split3_test</th>\n",
       "      <th>split4_test</th>\n",
       "      <th>split5_test</th>\n",
       "      <th>split6_test</th>\n",
       "      <th>mean_test</th>\n",
       "      <th>...</th>\n",
       "      <th>rank_test</th>\n",
       "      <th>split0_train</th>\n",
       "      <th>split1_train</th>\n",
       "      <th>split2_train</th>\n",
       "      <th>split3_train</th>\n",
       "      <th>split4_train</th>\n",
       "      <th>split5_train</th>\n",
       "      <th>split6_train</th>\n",
       "      <th>mean_train</th>\n",
       "      <th>std_train_score</th>\n",
       "    </tr>\n",
       "  </thead>\n",
       "  <tbody>\n",
       "    <tr>\n",
       "      <th>3</th>\n",
       "      <td>0.001</td>\n",
       "      <td>200</td>\n",
       "      <td>0.848816</td>\n",
       "      <td>0.824818</td>\n",
       "      <td>0.846715</td>\n",
       "      <td>0.839416</td>\n",
       "      <td>0.854015</td>\n",
       "      <td>0.861314</td>\n",
       "      <td>0.822993</td>\n",
       "      <td>0.842584</td>\n",
       "      <td>...</td>\n",
       "      <td>1</td>\n",
       "      <td>0.871959</td>\n",
       "      <td>0.871085</td>\n",
       "      <td>0.867133</td>\n",
       "      <td>0.868957</td>\n",
       "      <td>0.867741</td>\n",
       "      <td>0.866829</td>\n",
       "      <td>0.872302</td>\n",
       "      <td>0.869429</td>\n",
       "      <td>0.002155</td>\n",
       "    </tr>\n",
       "    <tr>\n",
       "      <th>4</th>\n",
       "      <td>1</td>\n",
       "      <td>150</td>\n",
       "      <td>0.837887</td>\n",
       "      <td>0.828467</td>\n",
       "      <td>0.855839</td>\n",
       "      <td>0.835766</td>\n",
       "      <td>0.848540</td>\n",
       "      <td>0.863139</td>\n",
       "      <td>0.821168</td>\n",
       "      <td>0.841544</td>\n",
       "      <td>...</td>\n",
       "      <td>2</td>\n",
       "      <td>0.860401</td>\n",
       "      <td>0.863484</td>\n",
       "      <td>0.862876</td>\n",
       "      <td>0.867133</td>\n",
       "      <td>0.860140</td>\n",
       "      <td>0.857099</td>\n",
       "      <td>0.860748</td>\n",
       "      <td>0.861697</td>\n",
       "      <td>0.002934</td>\n",
       "    </tr>\n",
       "    <tr>\n",
       "      <th>2</th>\n",
       "      <td>0.001</td>\n",
       "      <td>150</td>\n",
       "      <td>0.845173</td>\n",
       "      <td>0.819343</td>\n",
       "      <td>0.843066</td>\n",
       "      <td>0.837591</td>\n",
       "      <td>0.846715</td>\n",
       "      <td>0.863139</td>\n",
       "      <td>0.830292</td>\n",
       "      <td>0.840760</td>\n",
       "      <td>...</td>\n",
       "      <td>3</td>\n",
       "      <td>0.860401</td>\n",
       "      <td>0.861964</td>\n",
       "      <td>0.860748</td>\n",
       "      <td>0.863484</td>\n",
       "      <td>0.860748</td>\n",
       "      <td>0.859836</td>\n",
       "      <td>0.861964</td>\n",
       "      <td>0.861307</td>\n",
       "      <td>0.001147</td>\n",
       "    </tr>\n",
       "    <tr>\n",
       "      <th>1</th>\n",
       "      <td>0.0001</td>\n",
       "      <td>200</td>\n",
       "      <td>0.848816</td>\n",
       "      <td>0.824818</td>\n",
       "      <td>0.846715</td>\n",
       "      <td>0.833942</td>\n",
       "      <td>0.848540</td>\n",
       "      <td>0.859489</td>\n",
       "      <td>0.819343</td>\n",
       "      <td>0.840238</td>\n",
       "      <td>...</td>\n",
       "      <td>4</td>\n",
       "      <td>0.868005</td>\n",
       "      <td>0.870781</td>\n",
       "      <td>0.863180</td>\n",
       "      <td>0.867133</td>\n",
       "      <td>0.865613</td>\n",
       "      <td>0.868349</td>\n",
       "      <td>0.867741</td>\n",
       "      <td>0.867257</td>\n",
       "      <td>0.002196</td>\n",
       "    </tr>\n",
       "    <tr>\n",
       "      <th>5</th>\n",
       "      <td>1</td>\n",
       "      <td>200</td>\n",
       "      <td>0.845173</td>\n",
       "      <td>0.817518</td>\n",
       "      <td>0.839416</td>\n",
       "      <td>0.839416</td>\n",
       "      <td>0.846715</td>\n",
       "      <td>0.857664</td>\n",
       "      <td>0.832117</td>\n",
       "      <td>0.839717</td>\n",
       "      <td>...</td>\n",
       "      <td>5</td>\n",
       "      <td>0.868005</td>\n",
       "      <td>0.875038</td>\n",
       "      <td>0.870173</td>\n",
       "      <td>0.866525</td>\n",
       "      <td>0.865917</td>\n",
       "      <td>0.864701</td>\n",
       "      <td>0.872606</td>\n",
       "      <td>0.868995</td>\n",
       "      <td>0.003504</td>\n",
       "    </tr>\n",
       "    <tr>\n",
       "      <th>0</th>\n",
       "      <td>0.0001</td>\n",
       "      <td>150</td>\n",
       "      <td>0.839709</td>\n",
       "      <td>0.824818</td>\n",
       "      <td>0.841241</td>\n",
       "      <td>0.835766</td>\n",
       "      <td>0.841241</td>\n",
       "      <td>0.861314</td>\n",
       "      <td>0.822993</td>\n",
       "      <td>0.838154</td>\n",
       "      <td>...</td>\n",
       "      <td>6</td>\n",
       "      <td>0.861314</td>\n",
       "      <td>0.863484</td>\n",
       "      <td>0.858012</td>\n",
       "      <td>0.860444</td>\n",
       "      <td>0.861356</td>\n",
       "      <td>0.854971</td>\n",
       "      <td>0.862572</td>\n",
       "      <td>0.860308</td>\n",
       "      <td>0.002702</td>\n",
       "    </tr>\n",
       "  </tbody>\n",
       "</table>\n",
       "<p>6 rows × 21 columns</p>\n",
       "</div>"
      ],
      "text/plain": [
       "  param_clf__C param_pca  split0_test  split1_test  split2_test  split3_test  \\\n",
       "3        0.001       200     0.848816     0.824818     0.846715     0.839416   \n",
       "4            1       150     0.837887     0.828467     0.855839     0.835766   \n",
       "2        0.001       150     0.845173     0.819343     0.843066     0.837591   \n",
       "1       0.0001       200     0.848816     0.824818     0.846715     0.833942   \n",
       "5            1       200     0.845173     0.817518     0.839416     0.839416   \n",
       "0       0.0001       150     0.839709     0.824818     0.841241     0.835766   \n",
       "\n",
       "   split4_test  split5_test  split6_test  mean_test  ...  rank_test  \\\n",
       "3     0.854015     0.861314     0.822993   0.842584  ...          1   \n",
       "4     0.848540     0.863139     0.821168   0.841544  ...          2   \n",
       "2     0.846715     0.863139     0.830292   0.840760  ...          3   \n",
       "1     0.848540     0.859489     0.819343   0.840238  ...          4   \n",
       "5     0.846715     0.857664     0.832117   0.839717  ...          5   \n",
       "0     0.841241     0.861314     0.822993   0.838154  ...          6   \n",
       "\n",
       "   split0_train  split1_train  split2_train  split3_train  split4_train  \\\n",
       "3      0.871959      0.871085      0.867133      0.868957      0.867741   \n",
       "4      0.860401      0.863484      0.862876      0.867133      0.860140   \n",
       "2      0.860401      0.861964      0.860748      0.863484      0.860748   \n",
       "1      0.868005      0.870781      0.863180      0.867133      0.865613   \n",
       "5      0.868005      0.875038      0.870173      0.866525      0.865917   \n",
       "0      0.861314      0.863484      0.858012      0.860444      0.861356   \n",
       "\n",
       "   split5_train  split6_train  mean_train  std_train_score  \n",
       "3      0.866829      0.872302    0.869429         0.002155  \n",
       "4      0.857099      0.860748    0.861697         0.002934  \n",
       "2      0.859836      0.861964    0.861307         0.001147  \n",
       "1      0.868349      0.867741    0.867257         0.002196  \n",
       "5      0.864701      0.872606    0.868995         0.003504  \n",
       "0      0.854971      0.862572    0.860308         0.002702  \n",
       "\n",
       "[6 rows x 21 columns]"
      ]
     },
     "execution_count": 54,
     "metadata": {},
     "output_type": "execute_result"
    }
   ],
   "source": [
    "\n",
    "# print(classification_report(labels_test, grid_search_linear_svm.predict(features_test)))\n",
    "print_grid_search_results(grid_search_linear_svm, splits=8)"
   ]
  },
  {
   "cell_type": "markdown",
   "metadata": {},
   "source": [
    "# Gaussian SVM model"
   ]
  },
  {
   "cell_type": "code",
   "execution_count": 55,
   "metadata": {},
   "outputs": [
    {
     "name": "stdout",
     "output_type": "stream",
     "text": [
      "0.8772036474164133\n",
      "0.9781078967943706\n"
     ]
    }
   ],
   "source": [
    "features_train, features_test, labels_train, labels_test = train_test_split(\n",
    "    features, labels, train_size=0.7, test_size=0.3, random_state=12345)\n",
    "\n",
    "svm_pipeline = Pipeline(steps=[('scl_1', StandardScaler()), \n",
    "                               ('pca', PCA(n_components=150, random_state=42)),\n",
    "                               ('scl_2', StandardScaler()),\n",
    "                               ('clf', SVC(probability=True))])\n",
    "\n",
    "svm_pipeline.fit(features_train, labels_train)\n",
    "\n",
    "print(svm_pipeline.score(features_test, labels_test)) # 0.8755312689738919\n",
    "print(svm_pipeline.score(features_train, labels_train))"
   ]
  },
  {
   "cell_type": "markdown",
   "metadata": {},
   "source": [
    "Тhe results looks with high variance but on the other hand the score is high even with the default parameter values. So I'll increase the regularization and tune the gamma parameter. Of course, we will need cross-validation, too."
   ]
  },
  {
   "cell_type": "markdown",
   "metadata": {},
   "source": [
    "Tune the Gaussian SVM model parameters"
   ]
  },
  {
   "cell_type": "code",
   "execution_count": 56,
   "metadata": {},
   "outputs": [],
   "source": [
    "kfold = StratifiedKFold(n_splits=5)\n",
    "svm_params = dict(clf__C = [0.75, 1], clf__gamma=[0.007, 0.0075])\n",
    "\n",
    "grid_search_svm = GridSearchCV(svm_pipeline, param_grid=svm_params, cv=kfold, return_train_score=True, n_jobs=6)\n",
    "\n",
    "start = time.time()\n",
    "grid_search_svm.fit(features_train, labels_train)\n",
    "end = time.time()"
   ]
  },
  {
   "cell_type": "code",
   "execution_count": 57,
   "metadata": {},
   "outputs": [
    {
     "name": "stdout",
     "output_type": "stream",
     "text": [
      "GridSearchCV took {140.41} seconds for 4 candidate parameter settings.\n"
     ]
    }
   ],
   "source": [
    "print(\"GridSearchCV took {%.2f} seconds for %d candidate parameter settings.\"\n",
    "      % (end - start, len(grid_search_svm.cv_results_['params'])))"
   ]
  },
  {
   "cell_type": "code",
   "execution_count": 58,
   "metadata": {},
   "outputs": [
    {
     "data": {
      "text/plain": [
       "{'clf__C': 1, 'clf__gamma': 0.007}"
      ]
     },
     "execution_count": 58,
     "metadata": {},
     "output_type": "execute_result"
    }
   ],
   "source": [
    "grid_search_svm.best_params_ "
   ]
  },
  {
   "cell_type": "code",
   "execution_count": 59,
   "metadata": {},
   "outputs": [
    {
     "data": {
      "text/plain": [
       "0.8778115501519757"
      ]
     },
     "execution_count": 59,
     "metadata": {},
     "output_type": "execute_result"
    }
   ],
   "source": [
    "grid_search_svm.best_estimator_.score(features_test, labels_test)"
   ]
  },
  {
   "cell_type": "code",
   "execution_count": 60,
   "metadata": {},
   "outputs": [
    {
     "data": {
      "image/png": "[encoded data removed]",
      "text/plain": [
       "<Figure size 432x288 with 1 Axes>"
      ]
     },
     "metadata": {
      "needs_background": "light"
     },
     "output_type": "display_data"
    }
   ],
   "source": [
    "svm_estimator = grid_search_svm.best_estimator_\n",
    "roc = plot_roc_curve(svm_estimator, features_test, labels_test, title=\"Gaussian SVM\")\n",
    "roc.show()"
   ]
  },
  {
   "cell_type": "markdown",
   "metadata": {},
   "source": [
    "\n",
    "Learning curve for the Gaussian SVM\n",
    "The graph shows that we have a problem with overfitting(high variance). Perhaps adding more training samples will most likely increase generalization and the variance will be reduced."
   ]
  },
  {
   "cell_type": "code",
   "execution_count": 61,
   "metadata": {},
   "outputs": [
    {
     "data": {
      "image/png": "[encoded data removed]",
      "text/plain": [
       "<Figure size 432x288 with 1 Axes>"
      ]
     },
     "metadata": {
      "needs_background": "light"
     },
     "output_type": "display_data"
    }
   ],
   "source": [
    "title = \"Learning Curves (Gaussian SVM)\"\n",
    "cv = ShuffleSplit(n_splits=10, test_size=0.7, random_state=0)\n",
    "\n",
    "plot_learning_curve(grid_search_svm.best_estimator_, title, features, labels, ylim=(0.4, 2.), cv=cv, n_jobs=4)\n",
    "# print(plt.rcParams[\"figure.figsize\"])\n",
    "# plt.rcParams[\"figure.figsize\"] = (10, 6)\n",
    "plt.show()"
   ]
  },
  {
   "cell_type": "code",
   "execution_count": 62,
   "metadata": {},
   "outputs": [
    {
     "data": {
      "image/png": "[encoded data removed]",
      "text/plain": [
       "<Figure size 432x288 with 2 Axes>"
      ]
     },
     "metadata": {
      "needs_background": "light"
     },
     "output_type": "display_data"
    }
   ],
   "source": [
    "cnf_matrix = confusion_matrix(labels_test, grid_search_svm.best_estimator_.predict(features_test))\n",
    "np.set_printoptions(precision=2)\n",
    "\n",
    "# Plot confusion matrix\n",
    "plt.figure()\n",
    "plot_confusion_matrix(cnf_matrix, classes=np.array([\"Males\", \"Females\"]), title='Confusion matrix')\n",
    "plt.show()"
   ]
  },
  {
   "cell_type": "code",
   "execution_count": 63,
   "metadata": {},
   "outputs": [],
   "source": [
    "#Basic Random Forest¶\n",
    "\n",
    "np.random.seed(123456)\n",
    "features_train, features_test, labels_train, labels_test = train_test_split(\n",
    "    features, labels, train_size=0.7, test_size=0.3, random_state=12345)"
   ]
  },
  {
   "cell_type": "code",
   "execution_count": 64,
   "metadata": {},
   "outputs": [
    {
     "name": "stdout",
     "output_type": "stream",
     "text": [
      "Test score: 0.7969604863221884\n",
      "Train score: 0.9997393797237425\n"
     ]
    }
   ],
   "source": [
    "forest_pipeline = Pipeline(steps=[('scaler', StandardScaler()), \n",
    "                                  ('pca', PCA(n_components=150)),\n",
    "                                  ('scaler_1', StandardScaler()),\n",
    "                                  ('clf', RandomForestClassifier(criterion='gini'))])\n",
    "\n",
    "forest_pipeline.fit(features_train, labels_train)\n",
    "\n",
    "print(\"Test score: {}\".format(forest_pipeline.score(features_test, labels_test))) # 0.7698846387370978\n",
    "print(\"Train score: {}\".format(forest_pipeline.score(features_train, labels_train)))"
   ]
  },
  {
   "cell_type": "code",
   "execution_count": 65,
   "metadata": {},
   "outputs": [],
   "source": [
    "#tune\n",
    "\n",
    "kfold = StratifiedKFold(n_splits=3)\n",
    "forest_params = dict(clf__n_estimators = [1500, 2000], clf__max_depth=[2, 3])\n",
    "\n",
    "grid_search_forest = GridSearchCV(\n",
    "    forest_pipeline, param_grid=forest_params, cv=kfold, return_train_score=True, n_jobs=6)\n",
    "\n",
    "start = time.time()\n",
    "grid_search_forest.fit(features_train, labels_train)\n",
    "end = time.time()"
   ]
  },
  {
   "cell_type": "code",
   "execution_count": 66,
   "metadata": {},
   "outputs": [
    {
     "name": "stdout",
     "output_type": "stream",
     "text": [
      "GridSearchCV took {99.88} seconds for 4 candidate parameter settings.\n"
     ]
    }
   ],
   "source": [
    "\n",
    "print(\"GridSearchCV took {%.2f} seconds for %d candidate parameter settings.\"\n",
    "      % (end - start, len(grid_search_forest.cv_results_['params'])))"
   ]
  },
  {
   "cell_type": "code",
   "execution_count": 67,
   "metadata": {},
   "outputs": [
    {
     "data": {
      "text/plain": [
       "{'clf__max_depth': 3, 'clf__n_estimators': 1500}"
      ]
     },
     "execution_count": 67,
     "metadata": {},
     "output_type": "execute_result"
    }
   ],
   "source": [
    "grid_search_forest.best_params_ "
   ]
  },
  {
   "cell_type": "code",
   "execution_count": 68,
   "metadata": {},
   "outputs": [
    {
     "name": "stdout",
     "output_type": "stream",
     "text": [
      "Test score: 0.7787234042553192\n",
      "Train score: 0.8269481365650247\n",
      "Classification Report\n",
      "              precision    recall  f1-score   support\n",
      "\n",
      "         0.0       0.82      0.73      0.77       839\n",
      "         1.0       0.75      0.83      0.79       806\n",
      "\n",
      "    accuracy                           0.78      1645\n",
      "   macro avg       0.78      0.78      0.78      1645\n",
      "weighted avg       0.78      0.78      0.78      1645\n",
      "\n"
     ]
    }
   ],
   "source": [
    "print(\"Test score: {}\".format(grid_search_forest.best_estimator_.score(features_test, labels_test))) # 0.7741347905282332\n",
    "print(\"Train score: {}\".format(grid_search_forest.best_estimator_.score(features_train, labels_train))) # 0.81953125\n",
    "print(\"Classification Report\")\n",
    "print(classification_report(labels_test, grid_search_forest.predict(features_test)))"
   ]
  },
  {
   "cell_type": "code",
   "execution_count": 69,
   "metadata": {},
   "outputs": [
    {
     "data": {
      "text/html": [
       "<div>\n",
       "<style scoped>\n",
       "    .dataframe tbody tr th:only-of-type {\n",
       "        vertical-align: middle;\n",
       "    }\n",
       "\n",
       "    .dataframe tbody tr th {\n",
       "        vertical-align: top;\n",
       "    }\n",
       "\n",
       "    .dataframe thead th {\n",
       "        text-align: right;\n",
       "    }\n",
       "</style>\n",
       "<table border=\"1\" class=\"dataframe\">\n",
       "  <thead>\n",
       "    <tr style=\"text-align: right;\">\n",
       "      <th></th>\n",
       "      <th>param_clf__max_depth</th>\n",
       "      <th>n_estimators</th>\n",
       "      <th>split0_test</th>\n",
       "      <th>split1_test</th>\n",
       "      <th>split2_test</th>\n",
       "      <th>mean_test</th>\n",
       "      <th>std_test_score</th>\n",
       "      <th>rank_test</th>\n",
       "      <th>split0_train</th>\n",
       "      <th>split1_train</th>\n",
       "      <th>split2_train</th>\n",
       "      <th>mean_train</th>\n",
       "      <th>std_train_score</th>\n",
       "    </tr>\n",
       "  </thead>\n",
       "  <tbody>\n",
       "    <tr>\n",
       "      <th>2</th>\n",
       "      <td>3</td>\n",
       "      <td>1500</td>\n",
       "      <td>0.752932</td>\n",
       "      <td>0.774042</td>\n",
       "      <td>0.789679</td>\n",
       "      <td>0.772218</td>\n",
       "      <td>0.015057</td>\n",
       "      <td>1</td>\n",
       "      <td>0.833464</td>\n",
       "      <td>0.845582</td>\n",
       "      <td>0.843628</td>\n",
       "      <td>0.840891</td>\n",
       "      <td>0.005312</td>\n",
       "    </tr>\n",
       "    <tr>\n",
       "      <th>3</th>\n",
       "      <td>3</td>\n",
       "      <td>2000</td>\n",
       "      <td>0.749023</td>\n",
       "      <td>0.766224</td>\n",
       "      <td>0.787334</td>\n",
       "      <td>0.767527</td>\n",
       "      <td>0.015668</td>\n",
       "      <td>2</td>\n",
       "      <td>0.837764</td>\n",
       "      <td>0.844410</td>\n",
       "      <td>0.846755</td>\n",
       "      <td>0.842976</td>\n",
       "      <td>0.003808</td>\n",
       "    </tr>\n",
       "    <tr>\n",
       "      <th>1</th>\n",
       "      <td>2</td>\n",
       "      <td>2000</td>\n",
       "      <td>0.731822</td>\n",
       "      <td>0.767787</td>\n",
       "      <td>0.793589</td>\n",
       "      <td>0.764399</td>\n",
       "      <td>0.025330</td>\n",
       "      <td>3</td>\n",
       "      <td>0.800625</td>\n",
       "      <td>0.817045</td>\n",
       "      <td>0.812353</td>\n",
       "      <td>0.810008</td>\n",
       "      <td>0.006905</td>\n",
       "    </tr>\n",
       "    <tr>\n",
       "      <th>0</th>\n",
       "      <td>2</td>\n",
       "      <td>1500</td>\n",
       "      <td>0.736513</td>\n",
       "      <td>0.760751</td>\n",
       "      <td>0.783425</td>\n",
       "      <td>0.760229</td>\n",
       "      <td>0.019155</td>\n",
       "      <td>4</td>\n",
       "      <td>0.795152</td>\n",
       "      <td>0.811181</td>\n",
       "      <td>0.810399</td>\n",
       "      <td>0.805577</td>\n",
       "      <td>0.007378</td>\n",
       "    </tr>\n",
       "  </tbody>\n",
       "</table>\n",
       "</div>"
      ],
      "text/plain": [
       "  param_clf__max_depth n_estimators  split0_test  split1_test  split2_test  \\\n",
       "2                    3         1500     0.752932     0.774042     0.789679   \n",
       "3                    3         2000     0.749023     0.766224     0.787334   \n",
       "1                    2         2000     0.731822     0.767787     0.793589   \n",
       "0                    2         1500     0.736513     0.760751     0.783425   \n",
       "\n",
       "   mean_test  std_test_score  rank_test  split0_train  split1_train  \\\n",
       "2   0.772218        0.015057          1      0.833464      0.845582   \n",
       "3   0.767527        0.015668          2      0.837764      0.844410   \n",
       "1   0.764399        0.025330          3      0.800625      0.817045   \n",
       "0   0.760229        0.019155          4      0.795152      0.811181   \n",
       "\n",
       "   split2_train  mean_train  std_train_score  \n",
       "2      0.843628    0.840891         0.005312  \n",
       "3      0.846755    0.842976         0.003808  \n",
       "1      0.812353    0.810008         0.006905  \n",
       "0      0.810399    0.805577         0.007378  "
      ]
     },
     "execution_count": 69,
     "metadata": {},
     "output_type": "execute_result"
    }
   ],
   "source": [
    "print_grid_search_results(grid_search_forest, splits=3)"
   ]
  },
  {
   "cell_type": "code",
   "execution_count": 70,
   "metadata": {},
   "outputs": [
    {
     "data": {
      "image/png": "[encoded data removed]",
      "text/plain": [
       "<Figure size 432x288 with 1 Axes>"
      ]
     },
     "metadata": {
      "needs_background": "light"
     },
     "output_type": "display_data"
    }
   ],
   "source": [
    "\n",
    "# Time: ~1.5 min\n",
    "# prints learning curve\n",
    "cv = ShuffleSplit(n_splits=10, test_size=0.7, random_state=0)\n",
    "plot_learning_curve(grid_search_forest.best_estimator_, \n",
    "                    \"Learning Curves (Random Forest)\", \n",
    "                    features, labels, ylim=(0.4, 2.), cv=cv, n_jobs=6)\n",
    "plt.show()"
   ]
  },
  {
   "cell_type": "code",
   "execution_count": 71,
   "metadata": {},
   "outputs": [
    {
     "data": {
      "image/png": "[encoded data removed]",
      "text/plain": [
       "<Figure size 432x288 with 2 Axes>"
      ]
     },
     "metadata": {
      "needs_background": "light"
     },
     "output_type": "display_data"
    },
    {
     "data": {
      "image/png": "[encoded data removed]",
      "text/plain": [
       "<Figure size 432x288 with 1 Axes>"
      ]
     },
     "metadata": {
      "needs_background": "light"
     },
     "output_type": "display_data"
    }
   ],
   "source": [
    "# Plot confusion matrix\n",
    "cnf_matrix = confusion_matrix(labels_test, grid_search_forest.best_estimator_.predict(features_test))\n",
    "np.set_printoptions(precision=2)\n",
    "plt.figure()\n",
    "plot_confusion_matrix(cnf_matrix, classes=np.array([\"Males\", \"Females\"]), title='Confusion matrix')\n",
    "plt.show()\n",
    "\n",
    "# prints ROC curve\n",
    "forest_estimator = grid_search_forest.best_estimator_\n",
    "roc = plot_roc_curve(forest_estimator, features_test, labels_test, title=\"Gaussian SVM\")\n",
    "roc.show()"
   ]
  },
  {
   "cell_type": "markdown",
   "metadata": {},
   "source": [
    "# Adaptive Boost\n",
    "Basic AdaBoost with Decision Tree"
   ]
  },
  {
   "cell_type": "code",
   "execution_count": 72,
   "metadata": {},
   "outputs": [
    {
     "name": "stdout",
     "output_type": "stream",
     "text": [
      "Test score: 0.7604863221884498\n",
      "Train score: 0.8193901485535575\n"
     ]
    }
   ],
   "source": [
    "features_train, features_test, labels_train, labels_test = train_test_split(\n",
    "    features, labels, train_size=0.7, test_size=0.3, random_state=12345) # , random_state=12345\n",
    "\n",
    "tree = DecisionTreeClassifier(max_depth=1)\n",
    "\n",
    "ada_boost_pipeline = Pipeline(steps=[('scaler', StandardScaler()), \n",
    "                                  ('pca', PCA(n_components=150)),\n",
    "                                  ('scaler_1', StandardScaler()),\n",
    "                                  ('clf', AdaBoostClassifier(tree))])\n",
    "\n",
    "ada_boost_pipeline.fit(features_train, labels_train)\n",
    "print(\"Test score: {}\".format(ada_boost_pipeline.score(features_test, labels_test))) # 0.7644201578627808\n",
    "print(\"Train score: {}\".format(ada_boost_pipeline.score(features_train, labels_train)))"
   ]
  },
  {
   "cell_type": "code",
   "execution_count": 73,
   "metadata": {},
   "outputs": [
    {
     "name": "stdout",
     "output_type": "stream",
     "text": [
      "Time: 103.03278136253357\n"
     ]
    },
    {
     "data": {
      "text/plain": [
       "GridSearchCV(cv=StratifiedKFold(n_splits=5, random_state=None, shuffle=False),\n",
       "             error_score=nan,\n",
       "             estimator=Pipeline(memory=None,\n",
       "                                steps=[('scaler',\n",
       "                                        StandardScaler(copy=True,\n",
       "                                                       with_mean=True,\n",
       "                                                       with_std=True)),\n",
       "                                       ('pca',\n",
       "                                        PCA(copy=True, iterated_power='auto',\n",
       "                                            n_components=150, random_state=None,\n",
       "                                            svd_solver='auto', tol=0.0,\n",
       "                                            whiten=False)),\n",
       "                                       ('scaler_1',\n",
       "                                        StandardScaler(copy=Tru...\n",
       "                                                                                                 min_samples_split=2,\n",
       "                                                                                                 min_weight_fraction_leaf=0.0,\n",
       "                                                                                                 presort='deprecated',\n",
       "                                                                                                 random_state=None,\n",
       "                                                                                                 splitter='best'),\n",
       "                                                           learning_rate=1.0,\n",
       "                                                           n_estimators=50,\n",
       "                                                           random_state=None))],\n",
       "                                verbose=False),\n",
       "             iid='deprecated', n_jobs=6,\n",
       "             param_grid={'clf__learning_rate': [0.1, 0.35, 0.5],\n",
       "                         'clf__n_estimators': [100, 150]},\n",
       "             pre_dispatch='2*n_jobs', refit=True, return_train_score=True,\n",
       "             scoring=None, verbose=0)"
      ]
     },
     "execution_count": 73,
     "metadata": {},
     "output_type": "execute_result"
    }
   ],
   "source": [
    "\n",
    "start = time.time()\n",
    "params = dict(clf__n_estimators=[100, 150], clf__learning_rate=[0.1, 0.35, 0.5]) # add 50\n",
    "kfold = StratifiedKFold(n_splits=5)\n",
    "\n",
    "ada_boost_grid_search = GridSearchCV(\n",
    "    ada_boost_pipeline, param_grid=params, cv=kfold, return_train_score=True, n_jobs=6)\n",
    "ada_boost_grid_search.fit(features_train, labels_train)\n",
    "\n",
    "end = time.time()\n",
    "print(\"Time: {}\".format(end - start))\n",
    "ada_boost_grid_search"
   ]
  },
  {
   "cell_type": "code",
   "execution_count": 74,
   "metadata": {},
   "outputs": [
    {
     "name": "stdout",
     "output_type": "stream",
     "text": [
      "Best params: {'clf__learning_rate': 0.5, 'clf__n_estimators': 150}\n",
      "Mean test score: 0.8048632218844984\n",
      "Mean train score: 0.8722960646338285\n",
      "Classification Report\n",
      "              precision    recall  f1-score   support\n",
      "\n",
      "         0.0       0.81      0.80      0.81       839\n",
      "         1.0       0.80      0.81      0.80       806\n",
      "\n",
      "    accuracy                           0.80      1645\n",
      "   macro avg       0.80      0.80      0.80      1645\n",
      "weighted avg       0.81      0.80      0.80      1645\n",
      "\n"
     ]
    }
   ],
   "source": [
    "print(\"Best params: {}\".format(ada_boost_grid_search.best_params_))\n",
    "print(\"Mean test score: {}\".format(ada_boost_grid_search.best_estimator_.score(features_test, labels_test))) \n",
    "# 0.8032786885245902\n",
    "print(\"Mean train score: {}\".format(ada_boost_grid_search.best_estimator_.score(features_train, labels_train))) \n",
    "# 0.88203125\n",
    "print_grid_search_results(ada_boost_grid_search, splits=5)\n",
    "# Best params: {'learning_rate': 0.35, 'n_estimators': 150}\n",
    "print(\"Classification Report\")\n",
    "print(classification_report(labels_test, ada_boost_grid_search.predict(features_test)))\n",
    "\n",
    "# Confusion matrix\n",
    "cnf_matrix = confusion_matrix(labels_test, ada_boost_grid_search.best_estimator_.predict(features_test))\n",
    "np.set_printoptions(precision=2)"
   ]
  },
  {
   "cell_type": "code",
   "execution_count": 75,
   "metadata": {},
   "outputs": [
    {
     "data": {
      "image/png": "[encoded data removed]",
      "text/plain": [
       "<Figure size 432x288 with 1 Axes>"
      ]
     },
     "metadata": {
      "needs_background": "light"
     },
     "output_type": "display_data"
    },
    {
     "data": {
      "image/png": "[encoded data removed]",
      "text/plain": [
       "<Figure size 432x288 with 1 Axes>"
      ]
     },
     "metadata": {
      "needs_background": "light"
     },
     "output_type": "display_data"
    },
    {
     "data": {
      "image/png": "[encoded data removed]",
      "text/plain": [
       "<Figure size 432x288 with 2 Axes>"
      ]
     },
     "metadata": {
      "needs_background": "light"
     },
     "output_type": "display_data"
    }
   ],
   "source": [
    "ada_boost_estimator = ada_boost_grid_search.best_estimator_\n",
    "# prints learning curve\n",
    "cv = ShuffleSplit(n_splits=10, test_size=0.7, random_state=0)\n",
    "plot_learning_curve(ada_boost_estimator, \n",
    "                    \"Learning Curves (AdaBoost with Decision Tree)\", \n",
    "                    features, labels, ylim=(0.4, 2.), cv=cv, n_jobs=6)\n",
    "plt.show()\n",
    "\n",
    "# prints ROC curve\n",
    "roc = plot_roc_curve(ada_boost_estimator, features_test, labels_test, title=\"AdaBoost with Decision Tree\")\n",
    "roc.show()\n",
    "\n",
    "# Plot confusion matrix\n",
    "cnf_matrix = confusion_matrix(labels_test, ada_boost_estimator.predict(features_test))\n",
    "np.set_printoptions(precision=2)\n",
    "plt.figure()\n",
    "plot_confusion_matrix(cnf_matrix, classes=np.array([\"Males\", \"Females\"]), title='Confusion matrix')\n",
    "plt.show()"
   ]
  },
  {
   "cell_type": "markdown",
   "metadata": {},
   "source": [
    "# Experimental: attempt to combine models\n",
    "Now I'll try to combine models to get a better result. My idea is the following:\n",
    "\n",
    "We have $k$ different hypothesis(for example Logistic Regression, SVM and Decision Tree). Then $h_k(X)=y$, where $k&gt;1$, $X$ is the feature matrix, $y$ is the labels vector. Then we can construct a new dataset and hypothesis that will look like this:"
   ]
  },
  {
   "cell_type": "markdown",
   "metadata": {},
   "source": [
    "For $h_1, h_2, ...,h_k$ I'll chose hypothesis with different nature. For example I can chose $h_{k}\\{k=1,2\\}$ where $h_1$ is a logistic regression and $h_2$ is a random forest. These are two completely different species. My intuition suggests that this should be the case - to choose completely different algorithms. It makes no sense, for example, to get two types of logistic regresion or random forest and decision tree, because they are very similar. Later I can make more features with polynomial features. For $H$ I can try a simple hypothesis like logistic regression.\n",
    "\n",
    "Now I will generate new features from Logistic regression model and AdaBoost Model."
   ]
  },
  {
   "cell_type": "code",
   "execution_count": 76,
   "metadata": {},
   "outputs": [],
   "source": [
    "new_features = np.empty(shape=(0,2))\n",
    "for image in features:\n",
    "    # svm = svm_result = grid_search_svm.predict_proba([image])[0][1]\n",
    "    logr = grid_search_logistic_regresion.predict_proba([image])[0][1]\n",
    "    adabst = ada_boost_grid_search.predict_proba([image])[0][1]\n",
    "    \n",
    "    new_features = np.append(new_features, [[logr, adabst]], axis=0)"
   ]
  },
  {
   "cell_type": "code",
   "execution_count": 77,
   "metadata": {},
   "outputs": [
    {
     "data": {
      "text/html": [
       "<div>\n",
       "<style scoped>\n",
       "    .dataframe tbody tr th:only-of-type {\n",
       "        vertical-align: middle;\n",
       "    }\n",
       "\n",
       "    .dataframe tbody tr th {\n",
       "        vertical-align: top;\n",
       "    }\n",
       "\n",
       "    .dataframe thead th {\n",
       "        text-align: right;\n",
       "    }\n",
       "</style>\n",
       "<table border=\"1\" class=\"dataframe\">\n",
       "  <thead>\n",
       "    <tr style=\"text-align: right;\">\n",
       "      <th></th>\n",
       "      <th>Logistic Regression</th>\n",
       "      <th>Ada Boost</th>\n",
       "      <th>labels</th>\n",
       "    </tr>\n",
       "  </thead>\n",
       "  <tbody>\n",
       "    <tr>\n",
       "      <th>0</th>\n",
       "      <td>0.080542</td>\n",
       "      <td>0.496118</td>\n",
       "      <td>0.0</td>\n",
       "    </tr>\n",
       "    <tr>\n",
       "      <th>1</th>\n",
       "      <td>0.252967</td>\n",
       "      <td>0.498307</td>\n",
       "      <td>0.0</td>\n",
       "    </tr>\n",
       "    <tr>\n",
       "      <th>2</th>\n",
       "      <td>0.229819</td>\n",
       "      <td>0.501418</td>\n",
       "      <td>0.0</td>\n",
       "    </tr>\n",
       "    <tr>\n",
       "      <th>3</th>\n",
       "      <td>0.821899</td>\n",
       "      <td>0.503841</td>\n",
       "      <td>1.0</td>\n",
       "    </tr>\n",
       "    <tr>\n",
       "      <th>4</th>\n",
       "      <td>0.065035</td>\n",
       "      <td>0.487890</td>\n",
       "      <td>0.0</td>\n",
       "    </tr>\n",
       "  </tbody>\n",
       "</table>\n",
       "</div>"
      ],
      "text/plain": [
       "   Logistic Regression  Ada Boost  labels\n",
       "0             0.080542   0.496118     0.0\n",
       "1             0.252967   0.498307     0.0\n",
       "2             0.229819   0.501418     0.0\n",
       "3             0.821899   0.503841     1.0\n",
       "4             0.065035   0.487890     0.0"
      ]
     },
     "execution_count": 77,
     "metadata": {},
     "output_type": "execute_result"
    }
   ],
   "source": [
    "\n",
    "new_data = pd.DataFrame({\"Logistic Regression\":new_features[:,0], \"Ada Boost\":new_features[:,1], \"labels\":labels})\n",
    "new_data.head()"
   ]
  },
  {
   "cell_type": "code",
   "execution_count": 78,
   "metadata": {},
   "outputs": [
    {
     "data": {
      "text/plain": [
       "Pipeline(memory=None,\n",
       "         steps=[('poly',\n",
       "                 PolynomialFeatures(degree=2, include_bias=True,\n",
       "                                    interaction_only=False, order='C')),\n",
       "                ('lr',\n",
       "                 LogisticRegression(C=1.0, class_weight=None, dual=False,\n",
       "                                    fit_intercept=True, intercept_scaling=1,\n",
       "                                    l1_ratio=None, max_iter=100,\n",
       "                                    multi_class='auto', n_jobs=None,\n",
       "                                    penalty='l2', random_state=None,\n",
       "                                    solver='lbfgs', tol=0.0001, verbose=0,\n",
       "                                    warm_start=False))],\n",
       "         verbose=False)"
      ]
     },
     "execution_count": 78,
     "metadata": {},
     "output_type": "execute_result"
    }
   ],
   "source": [
    "new_features_train, new_features_test, labels_train, labels_test = train_test_split(\n",
    "    new_features, labels, train_size=0.7, test_size=0.3, random_state=42)\n",
    "\n",
    "pipe = Pipeline(steps=[('poly', PolynomialFeatures(degree=2, interaction_only=False)),\n",
    "                       ('lr', LogisticRegression())])\n",
    "\n",
    "pipe.fit(new_features_train, labels_train)"
   ]
  },
  {
   "cell_type": "code",
   "execution_count": 79,
   "metadata": {},
   "outputs": [
    {
     "data": {
      "text/plain": [
       "0.8601823708206687"
      ]
     },
     "execution_count": 79,
     "metadata": {},
     "output_type": "execute_result"
    }
   ],
   "source": [
    "pipe.score(new_features_test, labels_test)"
   ]
  },
  {
   "cell_type": "code",
   "execution_count": 80,
   "metadata": {},
   "outputs": [
    {
     "data": {
      "text/plain": [
       "0.8590044305446963"
      ]
     },
     "execution_count": 80,
     "metadata": {},
     "output_type": "execute_result"
    }
   ],
   "source": [
    "\n",
    "pipe.score(new_features_train, labels_train)"
   ]
  },
  {
   "cell_type": "code",
   "execution_count": 81,
   "metadata": {},
   "outputs": [
    {
     "data": {
      "text/plain": [
       "GridSearchCV(cv=StratifiedKFold(n_splits=8, random_state=None, shuffle=False),\n",
       "             error_score=nan,\n",
       "             estimator=Pipeline(memory=None,\n",
       "                                steps=[('poly',\n",
       "                                        PolynomialFeatures(degree=2,\n",
       "                                                           include_bias=True,\n",
       "                                                           interaction_only=False,\n",
       "                                                           order='C')),\n",
       "                                       ('lr',\n",
       "                                        LogisticRegression(C=1.0,\n",
       "                                                           class_weight=None,\n",
       "                                                           dual=False,\n",
       "                                                           fit_intercept=True,\n",
       "                                                           intercept_scaling=1,\n",
       "                                                           l1_ratio=None,\n",
       "                                                           max_iter=100,\n",
       "                                                           multi_class='auto',\n",
       "                                                           n_jobs=None,\n",
       "                                                           penalty='l2',\n",
       "                                                           random_state=None,\n",
       "                                                           solver='lbfgs',\n",
       "                                                           tol=0.0001,\n",
       "                                                           verbose=0,\n",
       "                                                           warm_start=False))],\n",
       "                                verbose=False),\n",
       "             iid='deprecated', n_jobs=None,\n",
       "             param_grid={'lr__C': [0.1, 0.5, 1, 10]}, pre_dispatch='2*n_jobs',\n",
       "             refit=True, return_train_score=False, scoring=None, verbose=0)"
      ]
     },
     "execution_count": 81,
     "metadata": {},
     "output_type": "execute_result"
    }
   ],
   "source": [
    "\n",
    "grid_search_experiment = GridSearchCV(\n",
    "    pipe, param_grid=dict(lr__C = [0.1, 0.5, 1, 10]), cv=StratifiedKFold(n_splits=8))\n",
    "grid_search_experiment.fit(new_features_test, labels_test)"
   ]
  },
  {
   "cell_type": "code",
   "execution_count": 82,
   "metadata": {},
   "outputs": [
    {
     "data": {
      "text/plain": [
       "0.8632218844984803"
      ]
     },
     "execution_count": 82,
     "metadata": {},
     "output_type": "execute_result"
    }
   ],
   "source": [
    "grid_search_experiment.score(new_features_test, labels_test)"
   ]
  },
  {
   "cell_type": "code",
   "execution_count": 83,
   "metadata": {},
   "outputs": [
    {
     "data": {
      "text/plain": [
       "0.8569194683346364"
      ]
     },
     "execution_count": 83,
     "metadata": {},
     "output_type": "execute_result"
    }
   ],
   "source": [
    "grid_search_experiment.score(new_features_train, labels_train)"
   ]
  },
  {
   "cell_type": "code",
   "execution_count": 84,
   "metadata": {},
   "outputs": [
    {
     "data": {
      "text/plain": [
       "{'lr__C': 1}"
      ]
     },
     "execution_count": 84,
     "metadata": {},
     "output_type": "execute_result"
    }
   ],
   "source": [
    "grid_search_experiment.best_params_"
   ]
  },
  {
   "cell_type": "code",
   "execution_count": 85,
   "metadata": {},
   "outputs": [
    {
     "data": {
      "image/png": "[encoded data removed]",
      "text/plain": [
       "<Figure size 432x288 with 1 Axes>"
      ]
     },
     "metadata": {
      "needs_background": "light"
     },
     "output_type": "display_data"
    }
   ],
   "source": [
    "\n",
    "cv = ShuffleSplit(n_splits=10, test_size=0.55, random_state=0)\n",
    "plot_learning_curve(grid_search_experiment.best_estimator_, \n",
    "                    \"Learning Curves (Experiment)\", \n",
    "                    new_features, labels, ylim=(0.84, 0.88), cv=cv, n_jobs=4)\n",
    "plt.show()"
   ]
  },
  {
   "cell_type": "code",
   "execution_count": 86,
   "metadata": {},
   "outputs": [
    {
     "data": {
      "image/png": "[encoded data removed]",
      "text/plain": [
       "<Figure size 432x288 with 1 Axes>"
      ]
     },
     "metadata": {
      "needs_background": "light"
     },
     "output_type": "display_data"
    },
    {
     "data": {
      "image/png": "[encoded data removed]",
      "text/plain": [
       "<Figure size 432x288 with 2 Axes>"
      ]
     },
     "metadata": {
      "needs_background": "light"
     },
     "output_type": "display_data"
    }
   ],
   "source": [
    "experiment = grid_search_experiment.best_estimator_\n",
    "# prints ROC curve\n",
    "roc = plot_roc_curve(experiment, new_features_test, labels_test, title=\"AdaBoost with Decision Tree\")\n",
    "roc.show()\n",
    "\n",
    "# Plot confusion matrix\n",
    "cnf_matrix = confusion_matrix(labels_test, experiment.predict(new_features_test))\n",
    "np.set_printoptions(precision=2)\n",
    "plt.figure()\n",
    "plot_confusion_matrix(cnf_matrix, classes=np.array([\"Males\", \"Females\"]), title='Confusion matrix')\n",
    "plt.show()"
   ]
  },
  {
   "cell_type": "code",
   "execution_count": 87,
   "metadata": {},
   "outputs": [
    {
     "data": {
      "text/html": [
       "<div>\n",
       "<style scoped>\n",
       "    .dataframe tbody tr th:only-of-type {\n",
       "        vertical-align: middle;\n",
       "    }\n",
       "\n",
       "    .dataframe tbody tr th {\n",
       "        vertical-align: top;\n",
       "    }\n",
       "\n",
       "    .dataframe thead th {\n",
       "        text-align: right;\n",
       "    }\n",
       "</style>\n",
       "<table border=\"1\" class=\"dataframe\">\n",
       "  <thead>\n",
       "    <tr style=\"text-align: right;\">\n",
       "      <th></th>\n",
       "      <th>Classificator</th>\n",
       "      <th>Mean test score</th>\n",
       "    </tr>\n",
       "  </thead>\n",
       "  <tbody>\n",
       "    <tr>\n",
       "      <th>2</th>\n",
       "      <td>Gaussian SVM</td>\n",
       "      <td>0.877812</td>\n",
       "    </tr>\n",
       "    <tr>\n",
       "      <th>0</th>\n",
       "      <td>Logistic Regressin</td>\n",
       "      <td>0.854103</td>\n",
       "    </tr>\n",
       "    <tr>\n",
       "      <th>1</th>\n",
       "      <td>Linear SVM</td>\n",
       "      <td>0.851064</td>\n",
       "    </tr>\n",
       "    <tr>\n",
       "      <th>4</th>\n",
       "      <td>AdaBoost with Decision tree</td>\n",
       "      <td>0.804863</td>\n",
       "    </tr>\n",
       "    <tr>\n",
       "      <th>3</th>\n",
       "      <td>Random Forest</td>\n",
       "      <td>0.778723</td>\n",
       "    </tr>\n",
       "  </tbody>\n",
       "</table>\n",
       "</div>"
      ],
      "text/plain": [
       "                 Classificator  Mean test score\n",
       "2                 Gaussian SVM         0.877812\n",
       "0           Logistic Regressin         0.854103\n",
       "1                   Linear SVM         0.851064\n",
       "4  AdaBoost with Decision tree         0.804863\n",
       "3                Random Forest         0.778723"
      ]
     },
     "execution_count": 87,
     "metadata": {},
     "output_type": "execute_result"
    }
   ],
   "source": [
    "features_train, features_test, labels_train, labels_test = train_test_split(\n",
    "    features, labels, train_size=0.7, test_size=0.3, random_state=12345)\n",
    "\n",
    "# Prints the models ordered by the mean test score\n",
    "logistic_regression_score = grid_search_logistic_regresion.best_estimator_.score(features_test, labels_test)\n",
    "linear_svm_score = grid_search_linear_svm.best_estimator_.score(features_test, labels_test)\n",
    "gaussin_svm_score = grid_search_svm.best_estimator_.score(features_test, labels_test)\n",
    "random_forest_score = grid_search_forest.best_estimator_.score(features_test, labels_test)\n",
    "ada_boost_score = ada_boost_grid_search.best_estimator_.score(features_test, labels_test)\n",
    "\n",
    "res = pd.DataFrame({'Classificator': [\"Logistic Regressin\", \"Linear SVM\", \"Gaussian SVM\", \n",
    "                                \"Random Forest\", \"AdaBoost with Decision tree\"], \n",
    "                   'Mean test score': [logistic_regression_score, linear_svm_score, gaussin_svm_score, \n",
    "                                       random_forest_score, ada_boost_score]})\n",
    "\n",
    "res.sort_values(by='Mean test score', inplace=True, ascending=False)\n",
    "res.head()"
   ]
  },
  {
   "cell_type": "code",
   "execution_count": null,
   "metadata": {},
   "outputs": [],
   "source": []
  },
  {
   "cell_type": "code",
   "execution_count": null,
   "metadata": {},
   "outputs": [],
   "source": []
  },
  {
   "cell_type": "code",
   "execution_count": null,
   "metadata": {},
   "outputs": [],
   "source": []
  },
  {
   "cell_type": "code",
   "execution_count": null,
   "metadata": {},
   "outputs": [],
   "source": []
  },
  {
   "cell_type": "code",
   "execution_count": 89,
   "metadata": {},
   "outputs": [],
   "source": [
    "FACE_CASCADE_PATH = r'D:\\2nd_semester\\bigdatascience\\project\\face_data\\face.xml'\n",
    "\n",
    "def predict(image):\n",
    "    \"\"\" \n",
    "    Display the result of several models \n",
    "    If a model does not exists - try to load a saved model from the local storage\n",
    "    If a model exists but is not saved - save a model to a local sotrage\n",
    "    If a model is already saved - use the model from the memory (do not use the saved model)\n",
    "    \"\"\"\n",
    "    svm_model = None\n",
    "    logistic_regression_model = None\n",
    "    ada_boost_model = None\n",
    "    \n",
    "    row_image = image.ravel()\n",
    "    \n",
    "    names = [('grid_search_svm', './saved_models/svm_model.sav', 'Gaussian SVM model'),\n",
    "             ('grid_search_logistic_regresion','./saved_models/logistic_regression_model.sav',\n",
    "              'Logistic Regression model'),\n",
    "             ('ada_boost_grid_search', './saved_models/ada_boost_model.sav', 'AdaBoost model')]\n",
    "\n",
    "    res = \"\"\n",
    "    for tuple_name in names:\n",
    "        model_name = tuple_name[0]\n",
    "        location = tuple_name[1]\n",
    "        title = tuple_name[2]\n",
    "        \n",
    "        try:\n",
    "            if not os.path.exists(location) and model_name in globals():\n",
    "                model = (globals()[model_name]).best_estimator_\n",
    "                pickle.dump(model, open(location, 'wb'))\n",
    "                print(\"A model is dumped.\")\n",
    "            elif os.path.exists(location) and not model_name in globals():\n",
    "                model = pickle.load(open(location, 'rb'))    \n",
    "                print(\"Warn: '{}' model is loaded from the local storage.\".format(model_name))\n",
    "            elif model_name in globals():\n",
    "                model = (globals()[model_name]).best_estimator_\n",
    "                print(\"{} model is used from the memory.\".format(model_name))\n",
    "            else:\n",
    "                print(\"Error: Can't find a model. Please build {} model first.\".format(model_name))\n",
    "            res += get_result(model.predict_proba([row_image]), title) + \"\\n\\n\"\n",
    "        except Exception as ex:\n",
    "            print(ex)\n",
    "    \n",
    "    if 'grid_search_experiment' in globals():\n",
    "        lr = grid_search_logistic_regresion.predict_proba([row_image])[0][1]\n",
    "        ada = ada_boost_grid_search.predict_proba([row_image])[0][1]\n",
    "\n",
    "        experiment = grid_search_experiment.predict_proba([[lr, ada]])\n",
    "        res += get_result(experiment, \"Experiment\") + \"\\n\\n\"\n",
    "         \n",
    "    plt.figure()\n",
    "    plt.imshow(image.reshape(40,40), cmap=plt.cm.bone)\n",
    "    plt.annotate(res,xy=(0,0), xytext=(45,40), fontsize=20)    \n",
    "\n",
    "    \n",
    "def get_result(result_proba, title):\n",
    "    \"\"\" Returns a result with model title \"\"\"\n",
    "    if result_proba[0][1] > .5:\n",
    "        res = \"Man({:.2f}%)\".format(result_proba[0][1]*100.)\n",
    "    else:\n",
    "        res =\"Woman({:.2f}%)\".format(result_proba[0][0]*100.)\n",
    "        \n",
    "    return \"{}: {}\".format(title, res)"
   ]
  },
  {
   "cell_type": "code",
   "execution_count": 90,
   "metadata": {},
   "outputs": [
    {
     "ename": "KeyboardInterrupt",
     "evalue": "",
     "output_type": "error",
     "traceback": [
      "\u001b[1;31m---------------------------------------------------------------------------\u001b[0m",
      "\u001b[1;31mKeyboardInterrupt\u001b[0m                         Traceback (most recent call last)",
      "\u001b[1;32m<ipython-input-90-83457d7bf347>\u001b[0m in \u001b[0;36m<module>\u001b[1;34m\u001b[0m\n\u001b[0;32m     35\u001b[0m     \u001b[0mcv2\u001b[0m\u001b[1;33m.\u001b[0m\u001b[0mdestroyAllWindows\u001b[0m\u001b[1;33m(\u001b[0m\u001b[1;33m)\u001b[0m\u001b[1;33m\u001b[0m\u001b[1;33m\u001b[0m\u001b[0m\n\u001b[0;32m     36\u001b[0m \u001b[1;33m\u001b[0m\u001b[0m\n\u001b[1;32m---> 37\u001b[1;33m \u001b[0mrecognize_faces_from_frame\u001b[0m\u001b[1;33m(\u001b[0m\u001b[1;33m)\u001b[0m\u001b[1;33m\u001b[0m\u001b[1;33m\u001b[0m\u001b[0m\n\u001b[0m",
      "\u001b[1;32m<ipython-input-90-83457d7bf347>\u001b[0m in \u001b[0;36mrecognize_faces_from_frame\u001b[1;34m()\u001b[0m\n\u001b[0;32m     11\u001b[0m         \u001b[0mgray\u001b[0m \u001b[1;33m=\u001b[0m \u001b[0mcv2\u001b[0m\u001b[1;33m.\u001b[0m\u001b[0mcvtColor\u001b[0m\u001b[1;33m(\u001b[0m\u001b[0mframe\u001b[0m\u001b[1;33m,\u001b[0m \u001b[0mcv2\u001b[0m\u001b[1;33m.\u001b[0m\u001b[0mCOLOR_BGR2GRAY\u001b[0m\u001b[1;33m)\u001b[0m\u001b[1;33m\u001b[0m\u001b[1;33m\u001b[0m\u001b[0m\n\u001b[0;32m     12\u001b[0m         \u001b[1;31m# looks for faces within the image\u001b[0m\u001b[1;33m\u001b[0m\u001b[1;33m\u001b[0m\u001b[1;33m\u001b[0m\u001b[0m\n\u001b[1;32m---> 13\u001b[1;33m         \u001b[0mfaces\u001b[0m \u001b[1;33m=\u001b[0m \u001b[0mface_cascade\u001b[0m\u001b[1;33m.\u001b[0m\u001b[0mdetectMultiScale\u001b[0m\u001b[1;33m(\u001b[0m\u001b[0mgray\u001b[0m\u001b[1;33m,\u001b[0m \u001b[1;36m1.3\u001b[0m\u001b[1;33m,\u001b[0m \u001b[1;36m5\u001b[0m\u001b[1;33m)\u001b[0m\u001b[1;33m\u001b[0m\u001b[1;33m\u001b[0m\u001b[0m\n\u001b[0m\u001b[0;32m     14\u001b[0m         \u001b[0mw\u001b[0m \u001b[1;33m=\u001b[0m \u001b[1;36m0\u001b[0m \u001b[1;31m#30\u001b[0m\u001b[1;33m\u001b[0m\u001b[1;33m\u001b[0m\u001b[0m\n\u001b[0;32m     15\u001b[0m         \u001b[0mh\u001b[0m \u001b[1;33m=\u001b[0m \u001b[1;36m0\u001b[0m \u001b[1;31m#50\u001b[0m\u001b[1;33m\u001b[0m\u001b[1;33m\u001b[0m\u001b[0m\n",
      "\u001b[1;31mKeyboardInterrupt\u001b[0m: "
     ]
    }
   ],
   "source": [
    "def recognize_faces_from_frame():\n",
    "    # data:       https://github.com/opencv/opencv/tree/master/data/haarcascades\n",
    "    # faces, see: https://github.com/opencv/opencv/blob/master/data/haarcascades/haarcascade_frontalface_default.xml\n",
    "    face_cascade = cv2.CascadeClassifier(FACE_CASCADE_PATH)\n",
    "    my_image = None\n",
    "\n",
    "    cap = cv2.VideoCapture(0)\n",
    "    is_running = True\n",
    "    while True:\n",
    "        _, frame = cap.read()\n",
    "        gray = cv2.cvtColor(frame, cv2.COLOR_BGR2GRAY)\n",
    "        # looks for faces within the image\n",
    "        faces = face_cascade.detectMultiScale(gray, 1.3, 5)\n",
    "        w = 0 #30\n",
    "        h = 0 #50\n",
    "        for (x, y, width, height) in faces:\n",
    "            # draws a rectangle around the detected face\n",
    "            cv2.rectangle(frame, (x - w, y - h), (x + width + w, y + height + h), (255, 0, 0), 5)\n",
    "            face_gray = gray[(y - h): y + height + h, (x - w): x + width + w]\n",
    "\n",
    "            if cv2.waitKey(1) == ord('q') or not is_running:\n",
    "                resized = cv2.resize(face_gray, dsize=RESIZE_SHAPE, interpolation=cv2.INTER_CUBIC)\n",
    "                try:\n",
    "                    predict(resized)\n",
    "                except Exception as ex:\n",
    "                    print(\"Error: {}\".format(ex))           \n",
    "                is_running = False\n",
    "\n",
    "        cv2.imshow('frame', frame)\n",
    "\n",
    "        if not is_running:\n",
    "            break\n",
    "\n",
    "    cap.release()\n",
    "    cv2.destroyAllWindows()\n",
    "\n",
    "recognize_faces_from_frame()"
   ]
  },
  {
   "cell_type": "code",
   "execution_count": 1,
   "metadata": {},
   "outputs": [
    {
     "ename": "NameError",
     "evalue": "name 'cv2' is not defined",
     "output_type": "error",
     "traceback": [
      "\u001b[1;31m---------------------------------------------------------------------------\u001b[0m",
      "\u001b[1;31mNameError\u001b[0m                                 Traceback (most recent call last)",
      "\u001b[1;32m<ipython-input-1-c018ab207302>\u001b[0m in \u001b[0;36m<module>\u001b[1;34m\u001b[0m\n\u001b[0;32m     14\u001b[0m             \u001b[0mprint\u001b[0m\u001b[1;33m(\u001b[0m\u001b[1;34m\"Error: {}\"\u001b[0m\u001b[1;33m.\u001b[0m\u001b[0mformat\u001b[0m\u001b[1;33m(\u001b[0m\u001b[0mex\u001b[0m\u001b[1;33m)\u001b[0m\u001b[1;33m)\u001b[0m\u001b[1;33m\u001b[0m\u001b[1;33m\u001b[0m\u001b[0m\n\u001b[0;32m     15\u001b[0m \u001b[1;33m\u001b[0m\u001b[0m\n\u001b[1;32m---> 16\u001b[1;33m \u001b[0mrecognize_faces_from_image\u001b[0m\u001b[1;33m(\u001b[0m\u001b[0mcv2\u001b[0m\u001b[1;33m.\u001b[0m\u001b[0mimread\u001b[0m\u001b[1;33m(\u001b[0m\u001b[1;34mr'D:\\2nd_semester\\bigdatascience\\project\\face_data\\lfw_funneled\\Aaron_Guiel\\Aaron_Guiel_0001.jpg'\u001b[0m\u001b[1;33m)\u001b[0m\u001b[1;33m)\u001b[0m\u001b[1;33m\u001b[0m\u001b[1;33m\u001b[0m\u001b[0m\n\u001b[0m",
      "\u001b[1;31mNameError\u001b[0m: name 'cv2' is not defined"
     ]
    }
   ],
   "source": [
    "def recognize_faces_from_image(image):\n",
    "    face_cascade = cv2.CascadeClassifier(FACE_CASCADE_PATH)\n",
    "    gray = cv2.cvtColor(image, cv2.COLOR_BGR2GRAY)\n",
    "    faces = face_cascade.detectMultiScale(gray, 1.3, 5)\n",
    "    w = 0\n",
    "    h = 0\n",
    "    for (x, y, width, height) in faces:\n",
    "        #cv2.rectangle(frame, (x - w, y - h), (x + width + w, y + height + h), (255, 0, 0), 5)\n",
    "        face_gray = gray[(y - h): y + height + h, (x - w): x + width + w]\n",
    "        resized = cv2.resize(face_gray, dsize=RESIZE_SHAPE, interpolation=cv2.INTER_CUBIC)\n",
    "        try:\n",
    "            predict(resized)\n",
    "        except Exception as ex:\n",
    "            print(\"Error: {}\".format(ex))\n",
    "\n",
    "recognize_faces_from_image(cv2.imread(r'D:\\2nd_semester\\bigdatascience\\project\\face_data\\lfw_funneled\\Aaron_Guiel\\Aaron_Guiel_0001.jpg'))"
   ]
  },
  {
   "cell_type": "code",
   "execution_count": null,
   "metadata": {},
   "outputs": [],
   "source": []
  },
  {
   "cell_type": "code",
   "execution_count": null,
   "metadata": {},
   "outputs": [],
   "source": []
  }
 ],
 "metadata": {
  "kernelspec": {
   "display_name": "Python 3",
   "language": "python",
   "name": "python3"
  },
  "language_info": {
   "codemirror_mode": {
    "name": "ipython",
    "version": 3
   },
   "file_extension": ".py",
   "mimetype": "text/x-python",
   "name": "python",
   "nbconvert_exporter": "python",
   "pygments_lexer": "ipython3",
   "version": "3.7.7"
  }
 },
 "nbformat": 4,
 "nbformat_minor": 4
}
