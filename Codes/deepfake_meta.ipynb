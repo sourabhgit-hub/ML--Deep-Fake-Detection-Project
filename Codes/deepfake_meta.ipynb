{
 "cells": [
  {
   "cell_type": "code",
   "execution_count": null,
   "metadata": {},
   "outputs": [],
   "source": [
    "https://github.com/dim4o/gender-recognizer/blob/master/Gender%20Classification.ipynb\n",
    "    https://github.com/google-research/google-research/blob/2f8d5e788c6295d71f5400806e5ed1e2a00f8f19/maml_nonexclusive/maml_classification/maml.py"
   ]
  },
  {
   "cell_type": "code",
   "execution_count": 1,
   "metadata": {},
   "outputs": [],
   "source": [
    "import os\n",
    "import urllib\n",
    "import tarfile\n",
    "import re\n",
    "from shutil import copyfile\n",
    "import random\n",
    "import time\n",
    "import itertools\n",
    "import pickle\n",
    "\n",
    "import matplotlib.pyplot as plt\n",
    "import pandas as pd\n",
    "import numpy as np\n",
    "import cv2\n",
    "import urllib\n",
    "\n",
    "from sklearn.pipeline import Pipeline\n",
    "from sklearn.preprocessing import MinMaxScaler, StandardScaler, PolynomialFeatures\n",
    "from sklearn.decomposition import PCA\n",
    "from sklearn.feature_selection import RFECV, SelectKBest, SelectPercentile\n",
    "from sklearn.model_selection import train_test_split, GridSearchCV, StratifiedKFold, learning_curve, ShuffleSplit\n",
    "from sklearn.linear_model import LogisticRegression\n",
    "from sklearn.svm import LinearSVC, SVC\n",
    "from sklearn.ensemble import RandomForestClassifier, AdaBoostClassifier\n",
    "from sklearn.tree import DecisionTreeClassifier, ExtraTreeClassifier\n",
    "from sklearn.metrics import f1_score, accuracy_score, precision_score, recall_score, classification_report\n",
    "from sklearn.metrics import confusion_matrix, roc_curve, roc_auc_score\n",
    "from sklearn.neighbors import KNeighborsClassifier\n",
    "\n",
    "# Constants\n",
    "NUMBER_OF_SAMPLES = 2900\n",
    "RESIZE_SHAPE = (40, 40)\n",
    "FEMALE_CLASS = 0\n",
    "MALE_CLASS = 1"
   ]
  },
  {
   "cell_type": "code",
   "execution_count": 2,
   "metadata": {},
   "outputs": [],
   "source": [
    "import os\n",
    "os.chdir(r'D:\\2nd_semester\\bigdatascience\\project\\P1\\img_align_celeba\\img_align_celeba\\\\')"
   ]
  },
  {
   "cell_type": "code",
   "execution_count": 2,
   "metadata": {},
   "outputs": [],
   "source": [
    "\n",
    "directory_female = r\"D:\\2nd_semester\\bigdatascience\\project\\P1\\fake_faces\\\\\"\n",
    "directory_male = r\"D:\\2nd_semester\\bigdatascience\\project\\P1\\test_real_faces\\\\\"\n"
   ]
  },
  {
   "cell_type": "code",
   "execution_count": 3,
   "metadata": {},
   "outputs": [
    {
     "name": "stdout",
     "output_type": "stream",
     "text": [
      "2000\n",
      "2000\n"
     ]
    }
   ],
   "source": [
    "# test print for the selected names\n",
    "female_image_names = os.listdir(directory_female)\n",
    "male_image_names = os.listdir(directory_male)\n",
    "print(len(female_image_names))\n",
    "print(len(male_image_names))"
   ]
  },
  {
   "cell_type": "markdown",
   "metadata": {},
   "source": [
    "# Dimensionality reduction\n",
    "Image transformations\n",
    "Now I'll extract the features from the image following these actions:\n",
    "\n",
    "Get the original image\n",
    "Convet the image to grayscale\n",
    "Define the region of interests. Use haar faces to detect a face (if exists) on the image. If there is more than one face, I'll get the square with the larger area.\n",
    "Crop the square from the gray image\n",
    "Apply gaussian kernel over the cropped image to reduce the noise.\n",
    "Resize the image to 40x40px"
   ]
  },
  {
   "cell_type": "code",
   "execution_count": 4,
   "metadata": {},
   "outputs": [],
   "source": [
    "gender_faces_data = None\n",
    "gender_faces_data = np.empty(shape=(0,RESIZE_SHAPE[0]*RESIZE_SHAPE[1]+1)) #64*64+1\n",
    "face_cascade = cv2.CascadeClassifier(r'D:\\2nd_semester\\bigdatascience\\project\\face_data\\face.xml')\n",
    "\n",
    "def extract_features(image_path, label):\n",
    "    \"\"\" Extracts features from a image\n",
    "    :param image_path: the path to the image\n",
    "    :param label: the label of the image\n",
    "    :return: extracted features from the image with the corresponding label as a row matrix\n",
    "    \"\"\"\n",
    "    image = cv2.imread(image_path)\n",
    "    gray = cv2.cvtColor(image, cv2.COLOR_BGR2GRAY)\n",
    "    \n",
    "    row = None\n",
    "    '''faces = face_cascade.detectMultiScale(gray, 1.3, 5)\n",
    "    if faces is not ():\n",
    "        face = sorted(faces, key=lambda x: (x[2] * x[3]), reverse=True)[0]\n",
    "        x, y, width, height = face\n",
    "        face_gray = gray[y: y + height, x: x + width]\n",
    "        \n",
    "        # apply Gaussian kernel\n",
    "        kernel = np.ones((3,3),np.float32)/9\n",
    "        face_gray = cv2.filter2D(face_gray,-1,kernel)\n",
    "        \n",
    "        resized = cv2.resize(face_gray, dsize=RESIZE_SHAPE, interpolation=cv2.INTER_CUBIC)\n",
    "        row = np.append(resized.ravel(), label)'''\n",
    "\n",
    "    return np.append((cv2.resize(gray, dsize=RESIZE_SHAPE, interpolation=cv2.INTER_CUBIC)),label)\n",
    "\n",
    "def append_data(prefix_path, label, gender_faces_data):\n",
    "    \"\"\" Appends data to a numpy array\"\"\"\n",
    "    image_names = os.listdir(prefix_path)\n",
    "    for image_path in image_names:\n",
    "        # print(image_path)\n",
    "        curr_row = extract_features(prefix_path + image_path, label)\n",
    "        if curr_row is not None:\n",
    "            gender_faces_data = np.append(gender_faces_data, [curr_row], axis=0)\n",
    "        \n",
    "    return gender_faces_data"
   ]
  },
  {
   "cell_type": "code",
   "execution_count": 5,
   "metadata": {},
   "outputs": [
    {
     "name": "stdout",
     "output_type": "stream",
     "text": [
      "Females count: 2000\n",
      "Males count: 2000\n",
      "Gender data shape: (4000, 1601)\n"
     ]
    }
   ],
   "source": [
    "# Append the female faces\n",
    "gender_faces_data = append_data(directory_female, FEMALE_CLASS, gender_faces_data)\n",
    "female_data = gender_faces_data\n",
    "\n",
    "# Append the male faces\n",
    "gender_faces_data = append_data(directory_male, MALE_CLASS, gender_faces_data)\n",
    "\n",
    "print(\"Females count: {}\".format(female_data.shape[0]))\n",
    "print(\"Males count: {}\".format(gender_faces_data.shape[0] - female_data.shape[0]))\n",
    "print(\"Gender data shape: {}\".format(gender_faces_data.shape))"
   ]
  },
  {
   "cell_type": "code",
   "execution_count": 6,
   "metadata": {},
   "outputs": [
    {
     "data": {
      "text/plain": [
       "array([[ 71.,  71.,  81., ...,  56.,  67.,   0.],\n",
       "       [154., 107., 122., ...,  87.,  51.,   0.],\n",
       "       [ 42.,  41.,  39., ...,  37.,  26.,   0.],\n",
       "       ...,\n",
       "       [238., 238., 238., ...,  39.,  39.,   1.],\n",
       "       [ 88., 126., 142., ...,  25.,  27.,   0.],\n",
       "       [ 59.,  54.,  62., ...,   2.,   2.,   1.]])"
      ]
     },
     "execution_count": 6,
     "metadata": {},
     "output_type": "execute_result"
    }
   ],
   "source": [
    "# Suffle the data\n",
    "np.random.shuffle(gender_faces_data)\n",
    "gender_faces_data"
   ]
  },
  {
   "cell_type": "code",
   "execution_count": 7,
   "metadata": {},
   "outputs": [],
   "source": [
    "np.savetxt(r'D:\\2nd_semester\\bigdatascience\\meta\\fake_real__data_40x40_large_2.csv', gender_faces_data.astype(np.int), delimiter=\",\")"
   ]
  },
  {
   "cell_type": "code",
   "execution_count": 8,
   "metadata": {},
   "outputs": [
    {
     "data": {
      "text/html": [
       "<div>\n",
       "<style scoped>\n",
       "    .dataframe tbody tr th:only-of-type {\n",
       "        vertical-align: middle;\n",
       "    }\n",
       "\n",
       "    .dataframe tbody tr th {\n",
       "        vertical-align: top;\n",
       "    }\n",
       "\n",
       "    .dataframe thead th {\n",
       "        text-align: right;\n",
       "    }\n",
       "</style>\n",
       "<table border=\"1\" class=\"dataframe\">\n",
       "  <thead>\n",
       "    <tr style=\"text-align: right;\">\n",
       "      <th></th>\n",
       "      <th>0</th>\n",
       "      <th>1</th>\n",
       "      <th>2</th>\n",
       "      <th>3</th>\n",
       "      <th>4</th>\n",
       "      <th>5</th>\n",
       "      <th>6</th>\n",
       "      <th>7</th>\n",
       "      <th>8</th>\n",
       "      <th>9</th>\n",
       "      <th>...</th>\n",
       "      <th>1591</th>\n",
       "      <th>1592</th>\n",
       "      <th>1593</th>\n",
       "      <th>1594</th>\n",
       "      <th>1595</th>\n",
       "      <th>1596</th>\n",
       "      <th>1597</th>\n",
       "      <th>1598</th>\n",
       "      <th>1599</th>\n",
       "      <th>1600</th>\n",
       "    </tr>\n",
       "  </thead>\n",
       "  <tbody>\n",
       "    <tr>\n",
       "      <th>0</th>\n",
       "      <td>71.0</td>\n",
       "      <td>71.0</td>\n",
       "      <td>81.0</td>\n",
       "      <td>89.0</td>\n",
       "      <td>91.0</td>\n",
       "      <td>94.0</td>\n",
       "      <td>107.0</td>\n",
       "      <td>114.0</td>\n",
       "      <td>117.0</td>\n",
       "      <td>123.0</td>\n",
       "      <td>...</td>\n",
       "      <td>94.0</td>\n",
       "      <td>103.0</td>\n",
       "      <td>118.0</td>\n",
       "      <td>116.0</td>\n",
       "      <td>88.0</td>\n",
       "      <td>61.0</td>\n",
       "      <td>48.0</td>\n",
       "      <td>56.0</td>\n",
       "      <td>67.0</td>\n",
       "      <td>0.0</td>\n",
       "    </tr>\n",
       "    <tr>\n",
       "      <th>1</th>\n",
       "      <td>154.0</td>\n",
       "      <td>107.0</td>\n",
       "      <td>122.0</td>\n",
       "      <td>120.0</td>\n",
       "      <td>129.0</td>\n",
       "      <td>134.0</td>\n",
       "      <td>140.0</td>\n",
       "      <td>143.0</td>\n",
       "      <td>144.0</td>\n",
       "      <td>145.0</td>\n",
       "      <td>...</td>\n",
       "      <td>74.0</td>\n",
       "      <td>84.0</td>\n",
       "      <td>88.0</td>\n",
       "      <td>85.0</td>\n",
       "      <td>83.0</td>\n",
       "      <td>81.0</td>\n",
       "      <td>89.0</td>\n",
       "      <td>87.0</td>\n",
       "      <td>51.0</td>\n",
       "      <td>0.0</td>\n",
       "    </tr>\n",
       "    <tr>\n",
       "      <th>2</th>\n",
       "      <td>42.0</td>\n",
       "      <td>41.0</td>\n",
       "      <td>39.0</td>\n",
       "      <td>44.0</td>\n",
       "      <td>64.0</td>\n",
       "      <td>78.0</td>\n",
       "      <td>44.0</td>\n",
       "      <td>44.0</td>\n",
       "      <td>44.0</td>\n",
       "      <td>37.0</td>\n",
       "      <td>...</td>\n",
       "      <td>1.0</td>\n",
       "      <td>53.0</td>\n",
       "      <td>75.0</td>\n",
       "      <td>86.0</td>\n",
       "      <td>72.0</td>\n",
       "      <td>77.0</td>\n",
       "      <td>53.0</td>\n",
       "      <td>37.0</td>\n",
       "      <td>26.0</td>\n",
       "      <td>0.0</td>\n",
       "    </tr>\n",
       "    <tr>\n",
       "      <th>3</th>\n",
       "      <td>147.0</td>\n",
       "      <td>197.0</td>\n",
       "      <td>196.0</td>\n",
       "      <td>185.0</td>\n",
       "      <td>170.0</td>\n",
       "      <td>131.0</td>\n",
       "      <td>125.0</td>\n",
       "      <td>130.0</td>\n",
       "      <td>142.0</td>\n",
       "      <td>147.0</td>\n",
       "      <td>...</td>\n",
       "      <td>31.0</td>\n",
       "      <td>43.0</td>\n",
       "      <td>39.0</td>\n",
       "      <td>57.0</td>\n",
       "      <td>43.0</td>\n",
       "      <td>33.0</td>\n",
       "      <td>31.0</td>\n",
       "      <td>32.0</td>\n",
       "      <td>36.0</td>\n",
       "      <td>0.0</td>\n",
       "    </tr>\n",
       "    <tr>\n",
       "      <th>4</th>\n",
       "      <td>87.0</td>\n",
       "      <td>73.0</td>\n",
       "      <td>96.0</td>\n",
       "      <td>93.0</td>\n",
       "      <td>112.0</td>\n",
       "      <td>131.0</td>\n",
       "      <td>143.0</td>\n",
       "      <td>145.0</td>\n",
       "      <td>141.0</td>\n",
       "      <td>141.0</td>\n",
       "      <td>...</td>\n",
       "      <td>56.0</td>\n",
       "      <td>51.0</td>\n",
       "      <td>39.0</td>\n",
       "      <td>16.0</td>\n",
       "      <td>78.0</td>\n",
       "      <td>82.0</td>\n",
       "      <td>74.0</td>\n",
       "      <td>100.0</td>\n",
       "      <td>119.0</td>\n",
       "      <td>0.0</td>\n",
       "    </tr>\n",
       "  </tbody>\n",
       "</table>\n",
       "<p>5 rows × 1601 columns</p>\n",
       "</div>"
      ],
      "text/plain": [
       "    0      1      2      3      4      5      6      7      8      9     ...  \\\n",
       "0   71.0   71.0   81.0   89.0   91.0   94.0  107.0  114.0  117.0  123.0  ...   \n",
       "1  154.0  107.0  122.0  120.0  129.0  134.0  140.0  143.0  144.0  145.0  ...   \n",
       "2   42.0   41.0   39.0   44.0   64.0   78.0   44.0   44.0   44.0   37.0  ...   \n",
       "3  147.0  197.0  196.0  185.0  170.0  131.0  125.0  130.0  142.0  147.0  ...   \n",
       "4   87.0   73.0   96.0   93.0  112.0  131.0  143.0  145.0  141.0  141.0  ...   \n",
       "\n",
       "   1591   1592   1593   1594  1595  1596  1597   1598   1599  1600  \n",
       "0  94.0  103.0  118.0  116.0  88.0  61.0  48.0   56.0   67.0   0.0  \n",
       "1  74.0   84.0   88.0   85.0  83.0  81.0  89.0   87.0   51.0   0.0  \n",
       "2   1.0   53.0   75.0   86.0  72.0  77.0  53.0   37.0   26.0   0.0  \n",
       "3  31.0   43.0   39.0   57.0  43.0  33.0  31.0   32.0   36.0   0.0  \n",
       "4  56.0   51.0   39.0   16.0  78.0  82.0  74.0  100.0  119.0   0.0  \n",
       "\n",
       "[5 rows x 1601 columns]"
      ]
     },
     "execution_count": 8,
     "metadata": {},
     "output_type": "execute_result"
    }
   ],
   "source": [
    "# Time 1-2 min, size ~200Mb\n",
    "# downloads the dataset if does not exists\n",
    "dataset_file = r'D:\\2nd_semester\\bigdatascience\\meta\\fake_real__data_40x40_large_2.csv'\n",
    "\n",
    "\n",
    "gender_faces_data = pd.read_csv(dataset_file, sep=',', header=None)\n",
    "gender_faces_data.head()"
   ]
  },
  {
   "cell_type": "code",
   "execution_count": 9,
   "metadata": {},
   "outputs": [
    {
     "name": "stdout",
     "output_type": "stream",
     "text": [
      "(4000, 1600)\n",
      "(4000,)\n",
      "[0. 0. 0. ... 1. 0. 1.]\n"
     ]
    }
   ],
   "source": [
    "# get features\n",
    "features = gender_faces_data.to_numpy()[:, :RESIZE_SHAPE[0]*RESIZE_SHAPE[1]]\n",
    "print(features.shape)\n",
    "\n",
    "# get labels\n",
    "labels = gender_faces_data.to_numpy()[:, RESIZE_SHAPE[0]*RESIZE_SHAPE[1]:].ravel() # labels = gender_faces_data.as_matrix()[:, 50*50:].ravel()\n",
    "print(labels.shape)\n",
    "print(labels)"
   ]
  },
  {
   "cell_type": "code",
   "execution_count": 10,
   "metadata": {},
   "outputs": [
    {
     "name": "stdout",
     "output_type": "stream",
     "text": [
      "Females count: 2000\n",
      "Males count: 2000\n",
      "{0.0: 2000, 1.0: 2000}\n"
     ]
    }
   ],
   "source": [
    "# calculates the final counts\n",
    "unique, count = np.unique(labels, return_counts=True)\n",
    "print(\"Females count: {}\".format(count[0]))\n",
    "print(\"Males count: {}\".format(count[1]))\n",
    "# out = np.histogram(labels, bins=labels)\n",
    "print(dict(zip(unique, count)))"
   ]
  },
  {
   "cell_type": "markdown",
   "metadata": {},
   "source": [
    "# Choice of the best features\n",
    "It is difficult to find the best PCA parameters but I can make very rough approximations with something like grid search."
   ]
  },
  {
   "cell_type": "code",
   "execution_count": 11,
   "metadata": {
    "scrolled": true
   },
   "outputs": [
    {
     "name": "stdout",
     "output_type": "stream",
     "text": [
      "Features shape: (4000, 1600)\n",
      "Reducing features to 80 ...\n"
     ]
    },
    {
     "name": "stderr",
     "output_type": "stream",
     "text": [
      "D:\\anaconda\\lib\\site-packages\\sklearn\\linear_model\\_logistic.py:940: ConvergenceWarning: lbfgs failed to converge (status=1):\n",
      "STOP: TOTAL NO. of ITERATIONS REACHED LIMIT.\n",
      "\n",
      "Increase the number of iterations (max_iter) or scale the data as shown in:\n",
      "    https://scikit-learn.org/stable/modules/preprocessing.html\n",
      "Please also refer to the documentation for alternative solver options:\n",
      "    https://scikit-learn.org/stable/modules/linear_model.html#logistic-regression\n",
      "  extra_warning_msg=_LOGISTIC_SOLVER_CONVERGENCE_MSG)\n"
     ]
    },
    {
     "name": "stdout",
     "output_type": "stream",
     "text": [
      "    train_score: 1.0\n",
      "    test_score: 0.9883333333333333\n",
      "Reducing features to 140 ...\n"
     ]
    },
    {
     "name": "stderr",
     "output_type": "stream",
     "text": [
      "D:\\anaconda\\lib\\site-packages\\sklearn\\linear_model\\_logistic.py:940: ConvergenceWarning: lbfgs failed to converge (status=1):\n",
      "STOP: TOTAL NO. of ITERATIONS REACHED LIMIT.\n",
      "\n",
      "Increase the number of iterations (max_iter) or scale the data as shown in:\n",
      "    https://scikit-learn.org/stable/modules/preprocessing.html\n",
      "Please also refer to the documentation for alternative solver options:\n",
      "    https://scikit-learn.org/stable/modules/linear_model.html#logistic-regression\n",
      "  extra_warning_msg=_LOGISTIC_SOLVER_CONVERGENCE_MSG)\n"
     ]
    },
    {
     "name": "stdout",
     "output_type": "stream",
     "text": [
      "    train_score: 1.0\n",
      "    test_score: 0.99\n",
      "Reducing features to 200 ...\n"
     ]
    },
    {
     "name": "stderr",
     "output_type": "stream",
     "text": [
      "D:\\anaconda\\lib\\site-packages\\sklearn\\linear_model\\_logistic.py:940: ConvergenceWarning: lbfgs failed to converge (status=1):\n",
      "STOP: TOTAL NO. of ITERATIONS REACHED LIMIT.\n",
      "\n",
      "Increase the number of iterations (max_iter) or scale the data as shown in:\n",
      "    https://scikit-learn.org/stable/modules/preprocessing.html\n",
      "Please also refer to the documentation for alternative solver options:\n",
      "    https://scikit-learn.org/stable/modules/linear_model.html#logistic-regression\n",
      "  extra_warning_msg=_LOGISTIC_SOLVER_CONVERGENCE_MSG)\n"
     ]
    },
    {
     "name": "stdout",
     "output_type": "stream",
     "text": [
      "    train_score: 1.0\n",
      "    test_score: 0.9916666666666667\n",
      "Reducing features to 260 ...\n"
     ]
    },
    {
     "name": "stderr",
     "output_type": "stream",
     "text": [
      "D:\\anaconda\\lib\\site-packages\\sklearn\\linear_model\\_logistic.py:940: ConvergenceWarning: lbfgs failed to converge (status=1):\n",
      "STOP: TOTAL NO. of ITERATIONS REACHED LIMIT.\n",
      "\n",
      "Increase the number of iterations (max_iter) or scale the data as shown in:\n",
      "    https://scikit-learn.org/stable/modules/preprocessing.html\n",
      "Please also refer to the documentation for alternative solver options:\n",
      "    https://scikit-learn.org/stable/modules/linear_model.html#logistic-regression\n",
      "  extra_warning_msg=_LOGISTIC_SOLVER_CONVERGENCE_MSG)\n"
     ]
    },
    {
     "name": "stdout",
     "output_type": "stream",
     "text": [
      "    train_score: 1.0\n",
      "    test_score: 0.9933333333333333\n",
      "Reducing features to 320 ...\n"
     ]
    },
    {
     "name": "stderr",
     "output_type": "stream",
     "text": [
      "D:\\anaconda\\lib\\site-packages\\sklearn\\linear_model\\_logistic.py:940: ConvergenceWarning: lbfgs failed to converge (status=1):\n",
      "STOP: TOTAL NO. of ITERATIONS REACHED LIMIT.\n",
      "\n",
      "Increase the number of iterations (max_iter) or scale the data as shown in:\n",
      "    https://scikit-learn.org/stable/modules/preprocessing.html\n",
      "Please also refer to the documentation for alternative solver options:\n",
      "    https://scikit-learn.org/stable/modules/linear_model.html#logistic-regression\n",
      "  extra_warning_msg=_LOGISTIC_SOLVER_CONVERGENCE_MSG)\n"
     ]
    },
    {
     "name": "stdout",
     "output_type": "stream",
     "text": [
      "    train_score: 1.0\n",
      "    test_score: 0.9925\n",
      "Reducing features to 380 ...\n"
     ]
    },
    {
     "name": "stderr",
     "output_type": "stream",
     "text": [
      "D:\\anaconda\\lib\\site-packages\\sklearn\\linear_model\\_logistic.py:940: ConvergenceWarning: lbfgs failed to converge (status=1):\n",
      "STOP: TOTAL NO. of ITERATIONS REACHED LIMIT.\n",
      "\n",
      "Increase the number of iterations (max_iter) or scale the data as shown in:\n",
      "    https://scikit-learn.org/stable/modules/preprocessing.html\n",
      "Please also refer to the documentation for alternative solver options:\n",
      "    https://scikit-learn.org/stable/modules/linear_model.html#logistic-regression\n",
      "  extra_warning_msg=_LOGISTIC_SOLVER_CONVERGENCE_MSG)\n"
     ]
    },
    {
     "name": "stdout",
     "output_type": "stream",
     "text": [
      "    train_score: 1.0\n",
      "    test_score: 0.9925\n",
      "Reducing features to 440 ...\n"
     ]
    },
    {
     "name": "stderr",
     "output_type": "stream",
     "text": [
      "D:\\anaconda\\lib\\site-packages\\sklearn\\linear_model\\_logistic.py:940: ConvergenceWarning: lbfgs failed to converge (status=1):\n",
      "STOP: TOTAL NO. of ITERATIONS REACHED LIMIT.\n",
      "\n",
      "Increase the number of iterations (max_iter) or scale the data as shown in:\n",
      "    https://scikit-learn.org/stable/modules/preprocessing.html\n",
      "Please also refer to the documentation for alternative solver options:\n",
      "    https://scikit-learn.org/stable/modules/linear_model.html#logistic-regression\n",
      "  extra_warning_msg=_LOGISTIC_SOLVER_CONVERGENCE_MSG)\n"
     ]
    },
    {
     "name": "stdout",
     "output_type": "stream",
     "text": [
      "    train_score: 1.0\n",
      "    test_score: 0.9925\n",
      "Reducing features to 1000 ...\n",
      "    train_score: 1.0\n",
      "    test_score: 0.995\n",
      "Finished.\n"
     ]
    },
    {
     "name": "stderr",
     "output_type": "stream",
     "text": [
      "D:\\anaconda\\lib\\site-packages\\sklearn\\linear_model\\_logistic.py:940: ConvergenceWarning: lbfgs failed to converge (status=1):\n",
      "STOP: TOTAL NO. of ITERATIONS REACHED LIMIT.\n",
      "\n",
      "Increase the number of iterations (max_iter) or scale the data as shown in:\n",
      "    https://scikit-learn.org/stable/modules/preprocessing.html\n",
      "Please also refer to the documentation for alternative solver options:\n",
      "    https://scikit-learn.org/stable/modules/linear_model.html#logistic-regression\n",
      "  extra_warning_msg=_LOGISTIC_SOLVER_CONVERGENCE_MSG)\n"
     ]
    }
   ],
   "source": [
    "print(\"Features shape: {}\".format(features.shape))\n",
    "features_counts = [80, 140, 200, 260, 320, 380, 440, 1000]\n",
    "test_scores = []\n",
    "train_scores = []\n",
    "for f_count in features_counts:\n",
    "    print(\"Reducing features to {} ...\".format(f_count))\n",
    "    pca = PCA(n_components=f_count)\n",
    "\n",
    "    pca.fit(features)\n",
    "    reduced_features = pca.transform(features)\n",
    "    \n",
    "    features_train, features_test, labels_train, labels_test = train_test_split(\n",
    "        reduced_features, labels, train_size=0.7, test_size=0.3, random_state=0)\n",
    "    \n",
    "    logistic_regression = LogisticRegression(C=0.001)\n",
    "    logistic_regression.fit(features_train, labels_train)\n",
    "    \n",
    "    test_score = logistic_regression.score(features_test, labels_test)\n",
    "    train_score = logistic_regression.score(features_train, labels_train)\n",
    "    \n",
    "    print(\"    train_score: {}\".format(train_score))\n",
    "    print(\"    test_score: {}\".format(test_score))\n",
    "    \n",
    "    test_scores.append(test_score)\n",
    "    train_scores.append(train_score)\n",
    "    \n",
    "print(\"Finished.\")"
   ]
  },
  {
   "cell_type": "code",
   "execution_count": 13,
   "metadata": {},
   "outputs": [
    {
     "data": {
      "image/png": "[encoded data removed]",
      "text/plain": [
       "<Figure size 432x288 with 1 Axes>"
      ]
     },
     "metadata": {
      "needs_background": "light"
     },
     "output_type": "display_data"
    }
   ],
   "source": [
    "\n",
    "plt.plot(features_counts, test_scores)\n",
    "plt.plot(features_counts, train_scores)\n",
    "plt.legend([\"test_score\", \"train score\"])\n",
    "plt.xlabel(\"number of components\")\n",
    "plt.ylabel(\"accuracy score\")\n",
    "plt.show()"
   ]
  },
  {
   "cell_type": "markdown",
   "metadata": {},
   "source": [
    "# Model selection\n",
    "As we have seen, the data is well balanced and therefore I will choose Accuracy Score for metric. Also I will use Learning Curve, ROC curve and Confusion Matrix to analyze the results."
   ]
  },
  {
   "cell_type": "code",
   "execution_count": 14,
   "metadata": {},
   "outputs": [
    {
     "name": "stdout",
     "output_type": "stream",
     "text": [
      "(4000, 1601)\n"
     ]
    },
    {
     "data": {
      "text/html": [
       "<div>\n",
       "<style scoped>\n",
       "    .dataframe tbody tr th:only-of-type {\n",
       "        vertical-align: middle;\n",
       "    }\n",
       "\n",
       "    .dataframe tbody tr th {\n",
       "        vertical-align: top;\n",
       "    }\n",
       "\n",
       "    .dataframe thead th {\n",
       "        text-align: right;\n",
       "    }\n",
       "</style>\n",
       "<table border=\"1\" class=\"dataframe\">\n",
       "  <thead>\n",
       "    <tr style=\"text-align: right;\">\n",
       "      <th></th>\n",
       "      <th>0</th>\n",
       "      <th>1</th>\n",
       "      <th>2</th>\n",
       "      <th>3</th>\n",
       "      <th>4</th>\n",
       "      <th>5</th>\n",
       "      <th>6</th>\n",
       "      <th>7</th>\n",
       "      <th>8</th>\n",
       "      <th>9</th>\n",
       "      <th>...</th>\n",
       "      <th>1591</th>\n",
       "      <th>1592</th>\n",
       "      <th>1593</th>\n",
       "      <th>1594</th>\n",
       "      <th>1595</th>\n",
       "      <th>1596</th>\n",
       "      <th>1597</th>\n",
       "      <th>1598</th>\n",
       "      <th>1599</th>\n",
       "      <th>1600</th>\n",
       "    </tr>\n",
       "  </thead>\n",
       "  <tbody>\n",
       "    <tr>\n",
       "      <th>0</th>\n",
       "      <td>71.0</td>\n",
       "      <td>71.0</td>\n",
       "      <td>81.0</td>\n",
       "      <td>89.0</td>\n",
       "      <td>91.0</td>\n",
       "      <td>94.0</td>\n",
       "      <td>107.0</td>\n",
       "      <td>114.0</td>\n",
       "      <td>117.0</td>\n",
       "      <td>123.0</td>\n",
       "      <td>...</td>\n",
       "      <td>94.0</td>\n",
       "      <td>103.0</td>\n",
       "      <td>118.0</td>\n",
       "      <td>116.0</td>\n",
       "      <td>88.0</td>\n",
       "      <td>61.0</td>\n",
       "      <td>48.0</td>\n",
       "      <td>56.0</td>\n",
       "      <td>67.0</td>\n",
       "      <td>0.0</td>\n",
       "    </tr>\n",
       "    <tr>\n",
       "      <th>1</th>\n",
       "      <td>154.0</td>\n",
       "      <td>107.0</td>\n",
       "      <td>122.0</td>\n",
       "      <td>120.0</td>\n",
       "      <td>129.0</td>\n",
       "      <td>134.0</td>\n",
       "      <td>140.0</td>\n",
       "      <td>143.0</td>\n",
       "      <td>144.0</td>\n",
       "      <td>145.0</td>\n",
       "      <td>...</td>\n",
       "      <td>74.0</td>\n",
       "      <td>84.0</td>\n",
       "      <td>88.0</td>\n",
       "      <td>85.0</td>\n",
       "      <td>83.0</td>\n",
       "      <td>81.0</td>\n",
       "      <td>89.0</td>\n",
       "      <td>87.0</td>\n",
       "      <td>51.0</td>\n",
       "      <td>0.0</td>\n",
       "    </tr>\n",
       "    <tr>\n",
       "      <th>2</th>\n",
       "      <td>42.0</td>\n",
       "      <td>41.0</td>\n",
       "      <td>39.0</td>\n",
       "      <td>44.0</td>\n",
       "      <td>64.0</td>\n",
       "      <td>78.0</td>\n",
       "      <td>44.0</td>\n",
       "      <td>44.0</td>\n",
       "      <td>44.0</td>\n",
       "      <td>37.0</td>\n",
       "      <td>...</td>\n",
       "      <td>1.0</td>\n",
       "      <td>53.0</td>\n",
       "      <td>75.0</td>\n",
       "      <td>86.0</td>\n",
       "      <td>72.0</td>\n",
       "      <td>77.0</td>\n",
       "      <td>53.0</td>\n",
       "      <td>37.0</td>\n",
       "      <td>26.0</td>\n",
       "      <td>0.0</td>\n",
       "    </tr>\n",
       "    <tr>\n",
       "      <th>3</th>\n",
       "      <td>147.0</td>\n",
       "      <td>197.0</td>\n",
       "      <td>196.0</td>\n",
       "      <td>185.0</td>\n",
       "      <td>170.0</td>\n",
       "      <td>131.0</td>\n",
       "      <td>125.0</td>\n",
       "      <td>130.0</td>\n",
       "      <td>142.0</td>\n",
       "      <td>147.0</td>\n",
       "      <td>...</td>\n",
       "      <td>31.0</td>\n",
       "      <td>43.0</td>\n",
       "      <td>39.0</td>\n",
       "      <td>57.0</td>\n",
       "      <td>43.0</td>\n",
       "      <td>33.0</td>\n",
       "      <td>31.0</td>\n",
       "      <td>32.0</td>\n",
       "      <td>36.0</td>\n",
       "      <td>0.0</td>\n",
       "    </tr>\n",
       "    <tr>\n",
       "      <th>4</th>\n",
       "      <td>87.0</td>\n",
       "      <td>73.0</td>\n",
       "      <td>96.0</td>\n",
       "      <td>93.0</td>\n",
       "      <td>112.0</td>\n",
       "      <td>131.0</td>\n",
       "      <td>143.0</td>\n",
       "      <td>145.0</td>\n",
       "      <td>141.0</td>\n",
       "      <td>141.0</td>\n",
       "      <td>...</td>\n",
       "      <td>56.0</td>\n",
       "      <td>51.0</td>\n",
       "      <td>39.0</td>\n",
       "      <td>16.0</td>\n",
       "      <td>78.0</td>\n",
       "      <td>82.0</td>\n",
       "      <td>74.0</td>\n",
       "      <td>100.0</td>\n",
       "      <td>119.0</td>\n",
       "      <td>0.0</td>\n",
       "    </tr>\n",
       "  </tbody>\n",
       "</table>\n",
       "<p>5 rows × 1601 columns</p>\n",
       "</div>"
      ],
      "text/plain": [
       "    0      1      2      3      4      5      6      7      8      9     ...  \\\n",
       "0   71.0   71.0   81.0   89.0   91.0   94.0  107.0  114.0  117.0  123.0  ...   \n",
       "1  154.0  107.0  122.0  120.0  129.0  134.0  140.0  143.0  144.0  145.0  ...   \n",
       "2   42.0   41.0   39.0   44.0   64.0   78.0   44.0   44.0   44.0   37.0  ...   \n",
       "3  147.0  197.0  196.0  185.0  170.0  131.0  125.0  130.0  142.0  147.0  ...   \n",
       "4   87.0   73.0   96.0   93.0  112.0  131.0  143.0  145.0  141.0  141.0  ...   \n",
       "\n",
       "   1591   1592   1593   1594  1595  1596  1597   1598   1599  1600  \n",
       "0  94.0  103.0  118.0  116.0  88.0  61.0  48.0   56.0   67.0   0.0  \n",
       "1  74.0   84.0   88.0   85.0  83.0  81.0  89.0   87.0   51.0   0.0  \n",
       "2   1.0   53.0   75.0   86.0  72.0  77.0  53.0   37.0   26.0   0.0  \n",
       "3  31.0   43.0   39.0   57.0  43.0  33.0  31.0   32.0   36.0   0.0  \n",
       "4  56.0   51.0   39.0   16.0  78.0  82.0  74.0  100.0  119.0   0.0  \n",
       "\n",
       "[5 rows x 1601 columns]"
      ]
     },
     "execution_count": 14,
     "metadata": {},
     "output_type": "execute_result"
    }
   ],
   "source": [
    "gender_faces_data = pd.read_csv(r'D:\\2nd_semester\\bigdatascience\\meta\\fake_real__data_40x40_large_2.csv', sep=',', header=None)\n",
    "\n",
    "print(gender_faces_data.shape)\n",
    "gender_faces_data.head()"
   ]
  },
  {
   "cell_type": "code",
   "execution_count": 15,
   "metadata": {},
   "outputs": [
    {
     "name": "stdout",
     "output_type": "stream",
     "text": [
      "(4000, 1600)\n"
     ]
    }
   ],
   "source": [
    "features = gender_faces_data.to_numpy()[:, :RESIZE_SHAPE[0]*RESIZE_SHAPE[1]]\n",
    "print(features.shape)"
   ]
  },
  {
   "cell_type": "code",
   "execution_count": 16,
   "metadata": {},
   "outputs": [
    {
     "name": "stdout",
     "output_type": "stream",
     "text": [
      "(4000,)\n",
      "[0. 0. 0. ... 1. 0. 1.]\n"
     ]
    }
   ],
   "source": [
    "labels = gender_faces_data.to_numpy()[:, RESIZE_SHAPE[0]*RESIZE_SHAPE[1]:].ravel()\n",
    "print(labels.shape)\n",
    "print(labels)"
   ]
  },
  {
   "cell_type": "markdown",
   "metadata": {},
   "source": [
    "# Define util functions"
   ]
  },
  {
   "cell_type": "markdown",
   "metadata": {},
   "source": [
    "# Logistic Regression model\n",
    "Basic Logistic Regression\n",
    "I will create a pipeline for the models because it is convenient to use not only during the training but also during the use of the model. I can simply call pipeline_model.predict(...) and it will handle the PCA and Scaler transformations for the input data. It is therefore a prerequisite for fewer mistakes. On the other hand, invoking PCA and Scaler every time when creating each model will reduce performance. But for the purpose of this study, this is not so important."
   ]
  },
  {
   "cell_type": "code",
   "execution_count": 21,
   "metadata": {},
   "outputs": [],
   "source": [
    "\n",
    "# split the data to train and test set\n",
    "features_train, features_test, labels_train, labels_test = train_test_split(\n",
    "    features, labels, train_size=0.7, test_size=0.3, random_state=42)"
   ]
  },
  {
   "cell_type": "code",
   "execution_count": 44,
   "metadata": {},
   "outputs": [],
   "source": [
    "# creates a pipeline for Logistic Regression\n",
    "logistic_regression_pipe = None\n",
    "logistic_regression = LogisticRegression(random_state=42)\n",
    "logistic_regression_pipe = Pipeline(steps=[('scaler_before', StandardScaler()), \n",
    "                          ('pca', PCA(n_components=150)),\n",
    "                          ('scaler_after', StandardScaler()),\n",
    "                          ('classifier', logistic_regression)])"
   ]
  },
  {
   "cell_type": "code",
   "execution_count": 45,
   "metadata": {},
   "outputs": [
    {
     "data": {
      "text/plain": [
       "Pipeline(memory=None,\n",
       "         steps=[('scaler_before',\n",
       "                 StandardScaler(copy=True, with_mean=True, with_std=True)),\n",
       "                ('pca',\n",
       "                 PCA(copy=True, iterated_power='auto', n_components=150,\n",
       "                     random_state=None, svd_solver='auto', tol=0.0,\n",
       "                     whiten=False)),\n",
       "                ('scaler_after',\n",
       "                 StandardScaler(copy=True, with_mean=True, with_std=True)),\n",
       "                ('classifier',\n",
       "                 LogisticRegression(C=1.0, class_weight=None, dual=False,\n",
       "                                    fit_intercept=True, intercept_scaling=1,\n",
       "                                    l1_ratio=None, max_iter=100,\n",
       "                                    multi_class='auto', n_jobs=None,\n",
       "                                    penalty='l2', random_state=42,\n",
       "                                    solver='lbfgs', tol=0.0001, verbose=0,\n",
       "                                    warm_start=False))],\n",
       "         verbose=False)"
      ]
     },
     "execution_count": 45,
     "metadata": {},
     "output_type": "execute_result"
    }
   ],
   "source": [
    "\n",
    "# fit the basic Logistic Regression model\n",
    "logistic_regression_pipe.fit(features_train[:151], labels_train[:151])"
   ]
  },
  {
   "cell_type": "code",
   "execution_count": 46,
   "metadata": {},
   "outputs": [
    {
     "name": "stdout",
     "output_type": "stream",
     "text": [
      "Basic logistic regression test accuracy score: 0.975\n",
      "Basic logistic regression train accuracy score: 0.9796428571428571\n",
      "Basic logistic regression F1 score: 0.9749582637729549\n"
     ]
    }
   ],
   "source": [
    "print(\"Basic logistic regression test accuracy score: {}\".format(\n",
    "    logistic_regression_pipe.score(features_test, labels_test)))\n",
    "print(\"Basic logistic regression train accuracy score: {}\".format(\n",
    "    logistic_regression_pipe.score(features_train, labels_train)))\n",
    "print(\"Basic logistic regression F1 score: {}\".format(\n",
    "    f1_score(labels_test, logistic_regression_pipe.predict(features_test))))"
   ]
  }
 ],
 "metadata": {
  "kernelspec": {
   "display_name": "Python 3",
   "language": "python",
   "name": "python3"
  },
  "language_info": {
   "codemirror_mode": {
    "name": "ipython",
    "version": 3
   },
   "file_extension": ".py",
   "mimetype": "text/x-python",
   "name": "python",
   "nbconvert_exporter": "python",
   "pygments_lexer": "ipython3",
   "version": "3.7.7"
  }
 },
 "nbformat": 4,
 "nbformat_minor": 4
}
